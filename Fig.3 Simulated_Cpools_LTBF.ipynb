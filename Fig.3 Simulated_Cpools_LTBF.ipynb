{
 "cells": [
  {
   "cell_type": "markdown",
   "metadata": {
    "tags": []
   },
   "source": [
    "# Fig. 3 Timeseries of C pools predicted at the bare fallow sites"
   ]
  },
  {
   "cell_type": "code",
   "execution_count": 14,
   "metadata": {},
   "outputs": [
    {
     "name": "stderr",
     "output_type": "stream",
     "text": [
      "Warning message:\n",
      "\"package 'ggpubr' was built under R version 4.0.5\"\n",
      "\n",
      "Attaching package: 'ggpubr'\n",
      "\n",
      "\n",
      "The following object is masked from 'package:plyr':\n",
      "\n",
      "    mutate\n",
      "\n",
      "\n"
     ]
    }
   ],
   "source": [
    "library(reshape2)\n",
    "library(ggplot2)\n",
    "library(ggpubr)"
   ]
  },
  {
   "cell_type": "markdown",
   "metadata": {},
   "source": [
    "## Panel a: Plot prediction timeseries of bare fallow"
   ]
  },
  {
   "cell_type": "code",
   "execution_count": 1,
   "metadata": {},
   "outputs": [],
   "source": [
    "# load data\n",
    "bf_mimics0 = read.csv(file = '../output/prediction_BF_MIMICSa.csv')\n",
    "bf_mimics1 = read.csv(file = '../output/prediction_BF_MIMICSb.csv')\n",
    "bf_mimics2 = read.csv(file = '../output/prediction_BF_MIMICSc.csv')"
   ]
  },
  {
   "cell_type": "code",
   "execution_count": 3,
   "metadata": {},
   "outputs": [],
   "source": [
    "b_mi0 = subset(bf_mimics0, select=c('site', 'years', 'SOC_gC_per_kgSoil', \n",
    "                               'TSOC_pre_kg'))\n",
    "b_mi0$Model = 'MIMICSa'\n",
    "\n",
    "b_mi1 = subset(bf_mimics1, select=c('site', 'years', 'SOC_gC_per_kgSoil', \n",
    "                               'TSOC_pre_kg'))\n",
    "b_mi1$Model = 'MIMICSb'\n",
    "\n",
    "b_mi2 = subset(bf_mimics2, select=c('site', 'years', 'SOC_gC_per_kgSoil', \n",
    "                               'TSOC_pre_kg'))\n",
    "b_mi2$Model = 'MIMICSc'"
   ]
  },
  {
   "cell_type": "code",
   "execution_count": 5,
   "metadata": {},
   "outputs": [],
   "source": [
    "predata = rbind(b_mi0, b_mi1, b_mi2)\n",
    "colnames(predata) = c('site', 'years', 'TSOC_ob',  'TSOC_pre',  'Model')\n",
    "predata = predata[predata$years <= 100, ]\n",
    "\n",
    "df = predata\n",
    "df = subset(df, select = c(site, Model, years, TSOC_ob, TSOC_pre))\n",
    "colnames(df) =  c('site', 'Model',  'years', 'x',  'y')"
   ]
  },
  {
   "cell_type": "code",
   "execution_count": 6,
   "metadata": {},
   "outputs": [],
   "source": [
    "# index for model evaluation\n",
    "lm_eqn1 <- function(df)\n",
    " {m <- lm(y ~ x, df);\n",
    "  eq <- substitute(italic(y) == a + b %.% italic(x), \n",
    "                   list(a = round(unname(coef(m)[1]), digits = 3),\n",
    "                        b = round(unname(coef(m)[2]), digits = 3),\n",
    "                        r2 = round(summary(m)$r.squared, digits = 3)))\n",
    "  as.character(as.expression(eq));\n",
    "  }\n",
    "\n",
    "lm_eqn2 <- function(df)\n",
    " {m <- lm(y ~ x, df);\n",
    "  eq <- substitute(~~italic(R)^2~\"=\"~r2, \n",
    "                   list(a = round(unname(coef(m)[1]), digits = 3),\n",
    "                        b = round(unname(coef(m)[2]), digits = 3),\n",
    "                        r2 = round(summary(m)$r.squared, digits = 3)))\n",
    "  as.character(as.expression(eq));\n",
    "  }\n",
    "\n",
    "# rmse\n",
    "rmse_eqn <- function(df)\n",
    "  {   df = na.omit(df)\n",
    "      rmse = (sum((df$x - df$y)^2)/dim(df)[1])^0.5;\n",
    "      eq <- substitute(RMSE == rmse2, \n",
    "                       list(rmse2 = round(rmse, digits = 3)))       # RMSE\n",
    "      as.character(as.expression(eq));\n",
    "  } \n",
    "\n",
    "# r2 = 1-sse/sst\n",
    "r2_eqn <- function(df)\n",
    " {sst <- sum((df$y - mean(df$y))^2);\n",
    "  sse <- sum((df$x - df$y)^2);\n",
    "  eq <- substitute(~~italic(R)^2~\"=\"~r2, \n",
    "                   list(r2 = round(1 - (sse/sst), digits = 3)))\n",
    "  as.character(as.expression(eq));\n",
    "  }"
   ]
  },
  {
   "cell_type": "code",
   "execution_count": 7,
   "metadata": {},
   "outputs": [
    {
     "name": "stderr",
     "output_type": "stream",
     "text": [
      "Warning message:\n",
      "\"package 'plyr' was built under R version 4.0.5\"\n"
     ]
    }
   ],
   "source": [
    "library(plyr)\n",
    "# calcualte index for model evaluation\n",
    "eq1 <- ddply(na.omit(df),.(site, Model), rmse_eqn) \n",
    "eq2 <- ddply(na.omit(df),.(site, Model), r2_eqn)\n",
    "\n",
    "# will be labelled at the top \n",
    "eq1.a = eq1\n",
    "eq1.a[eq1.a$site == 'Rothamsted', ]$V1 = NA \n",
    "eq2.a = eq2\n",
    "eq2.a[eq2.a$site == 'Rothamsted', ]$V1 = NA\n",
    "\n",
    "# will be labelled at the bottom\n",
    "eq1.b = eq1\n",
    "eq1.b[eq1.b$site != 'Rothamsted', ]$V1 = NA \n",
    "eq2.b = eq2\n",
    "eq2.b[eq2.b$site != 'Rothamsted', ]$V1 = NA "
   ]
  },
  {
   "cell_type": "code",
   "execution_count": 8,
   "metadata": {},
   "outputs": [],
   "source": [
    "# predicted vs observed time-series plot\n",
    "col_models = c('blue', 'red', 'green4')\n",
    "bf_scatter = ggplot(aes(x = years , y = x), data = df)+ \n",
    "         facet_grid(site~ Model)+\n",
    "         geom_point(size=2,shape=1, col = 'grey50') +\n",
    "         geom_line(aes(x = years, y = y, col=factor(Model))) + \n",
    "         scale_color_manual(values= col_models) +\n",
    "         # add model evaluation equations and labs\n",
    "         geom_text(data=eq1.a, size = 4 ,\n",
    "                   aes(x = 45, y = 29.6,label=V1), \n",
    "                   parse = TRUE, inherit.aes=FALSE) + \n",
    "         geom_text(data=eq2.a, size = 4 , \n",
    "                   aes(x = 47, y = 22,label=V1), \n",
    "                   parse = TRUE, inherit.aes=FALSE) +  \n",
    "\n",
    "         geom_text(data=eq1.b, size = 4 ,\n",
    "                   aes(x = 45, y = 29.6,label=V1), \n",
    "                   parse = TRUE, inherit.aes=FALSE) + \n",
    "         geom_text(data=eq2.b, size = 4 , \n",
    "                   aes(x = 47, y = 22,label=V1), \n",
    "                   parse = TRUE, inherit.aes=FALSE) +  \n",
    "         scale_y_continuous(\n",
    "             limits = c(0, 32),\n",
    "            name = expression(paste('Soil organic carbon remaining (gC kg'^'-1','soil)'))) +\n",
    "         xlab('Time under bare fallow (years)')\n"
   ]
  },
  {
   "cell_type": "code",
   "execution_count": 12,
   "metadata": {
    "scrolled": true
   },
   "outputs": [],
   "source": [
    "bf_scatters = bf_scatter +\n",
    "              theme_bw() +\n",
    "              theme(panel.grid.major = element_blank(),\n",
    "                    panel.grid.minor = element_blank()) +\n",
    "              theme(strip.text = element_text(size = 13, face='bold'),     # facet text size\n",
    "                    strip.text.y = element_text(size = 13, face='bold')) +\n",
    "              theme(axis.text.x =element_text(size=12, angle = 45, hjust=1), \n",
    "                    axis.text.y =element_text(size=12),  \n",
    "                    axis.title=element_text(size=13)) +\n",
    "              theme(legend.text =element_text(size=13), \n",
    "                    legend.title=element_text(size=13)) +\n",
    "              labs(col='Model:') +\n",
    "              theme(legend.position= 'bottom')"
   ]
  },
  {
   "cell_type": "code",
   "execution_count": 15,
   "metadata": {},
   "outputs": [
    {
     "name": "stderr",
     "output_type": "stream",
     "text": [
      "Warning message:\n",
      "\"\u001b[1m\u001b[22mRemoved 1272 rows containing missing values or values outside the scale range (`geom_point()`).\"\n",
      "Warning message:\n",
      "\"\u001b[1m\u001b[22mRemoved 3 rows containing missing values or values outside the scale range (`geom_text()`).\"\n",
      "Warning message:\n",
      "\"\u001b[1m\u001b[22mRemoved 3 rows containing missing values or values outside the scale range (`geom_text()`).\"\n",
      "Warning message:\n",
      "\"\u001b[1m\u001b[22mRemoved 12 rows containing missing values or values outside the scale range (`geom_text()`).\"\n",
      "Warning message:\n",
      "\"\u001b[1m\u001b[22mRemoved 12 rows containing missing values or values outside the scale range (`geom_text()`).\"\n"
     ]
    },
    {
     "data": {
      "image/png": "[encoded data removed]",
      "text/plain": [
       "plot without title"
      ]
     },
     "metadata": {
      "image/png": {
       "height": 420,
       "width": 420
      }
     },
     "output_type": "display_data"
    }
   ],
   "source": [
    "panel_a = ggarrange(bf_scatters, labels = c(\"(a)\"))\n",
    "panel_a\n",
    "ggsave(\"Fig.3-a.eps\", width = 5, height = 8)"
   ]
  },
  {
   "cell_type": "code",
   "execution_count": 16,
   "metadata": {},
   "outputs": [],
   "source": [
    "\n",
    "ggsave(\"Fig.3-a.jpg\", width = 5, height = 8,  dpi=300)"
   ]
  },
  {
   "cell_type": "code",
   "execution_count": 20,
   "metadata": {},
   "outputs": [],
   "source": [
    "save(bf_scatters, file = 'bf_scatters_data_abc.RData')"
   ]
  },
  {
   "cell_type": "markdown",
   "metadata": {
    "tags": []
   },
   "source": [
    "## Panel b: timeseries of fractions of C pools"
   ]
  },
  {
   "cell_type": "code",
   "execution_count": 17,
   "metadata": {},
   "outputs": [],
   "source": [
    "# load data\n",
    "b_mi0 = subset(bf_mimics0, select=c('site', 'years', 'MIC_1', 'MIC_2', 'SOM_1', 'SOM_2', 'SOM_3', 'bulkD' ))\n",
    "b_mi0$model_type = 'MIMICSa'\n",
    "\n",
    "b_mi1 = subset(bf_mimics1, select=c('site', 'years', 'MIC_1', 'MIC_2', 'SOM_1', 'SOM_2', 'SOM_3', 'bulkD' ))\n",
    "b_mi1$model_type = 'MIMICSb'\n",
    "\n",
    "b_mi2 = subset(bf_mimics2, select=c('site', 'years', 'MIC_1', 'MIC_2', 'SOM_1', 'SOM_2', 'SOM_3', 'bulkD' ))\n",
    "b_mi2$model_type = 'MIMICSc'\n",
    "\n",
    "bfdata = rbind(b_mi0, b_mi1, b_mi2)"
   ]
  },
  {
   "cell_type": "code",
   "execution_count": 18,
   "metadata": {},
   "outputs": [],
   "source": [
    "# Convert the unit of carbon by dividing bulk Density\n",
    "bfdata$MBr = bfdata$MIC_1/bfdata$bulkD\n",
    "bfdata$MBK = bfdata$MIC_2/bfdata$bulkD\n",
    "bfdata$Cphs = bfdata$SOM_1/bfdata$bulkD\n",
    "bfdata$Cchm = bfdata$SOM_2/bfdata$bulkD\n",
    "bfdata$Cavl = bfdata$SOM_3/bfdata$bulkD"
   ]
  },
  {
   "cell_type": "code",
   "execution_count": 19,
   "metadata": {},
   "outputs": [
    {
     "data": {
      "text/html": [
       "<style>\n",
       ".list-inline {list-style: none; margin:0; padding: 0}\n",
       ".list-inline>li {display: inline-block}\n",
       ".list-inline>li:not(:last-child)::after {content: \"\\00b7\"; padding: 0 .5ex}\n",
       "</style>\n",
       "<ol class=list-inline><li>MBr</li><li>MBK</li><li>Cavl</li><li>Cchm</li><li>Cphs</li></ol>\n",
       "\n",
       "<details>\n",
       "\t<summary style=display:list-item;cursor:pointer>\n",
       "\t\t<strong>Levels</strong>:\n",
       "\t</summary>\n",
       "\t<style>\n",
       "\t.list-inline {list-style: none; margin:0; padding: 0}\n",
       "\t.list-inline>li {display: inline-block}\n",
       "\t.list-inline>li:not(:last-child)::after {content: \"\\00b7\"; padding: 0 .5ex}\n",
       "\t</style>\n",
       "\t<ol class=list-inline><li>'MBr'</li><li>'MBK'</li><li>'Cavl'</li><li>'Cchm'</li><li>'Cphs'</li></ol>\n",
       "</details>"
      ],
      "text/latex": [
       "\\begin{enumerate*}\n",
       "\\item MBr\n",
       "\\item MBK\n",
       "\\item Cavl\n",
       "\\item Cchm\n",
       "\\item Cphs\n",
       "\\end{enumerate*}\n",
       "\n",
       "\\emph{Levels}: \\begin{enumerate*}\n",
       "\\item 'MBr'\n",
       "\\item 'MBK'\n",
       "\\item 'Cavl'\n",
       "\\item 'Cchm'\n",
       "\\item 'Cphs'\n",
       "\\end{enumerate*}\n"
      ],
      "text/markdown": [
       "1. MBr\n",
       "2. MBK\n",
       "3. Cavl\n",
       "4. Cchm\n",
       "5. Cphs\n",
       "\n",
       "\n",
       "\n",
       "**Levels**: 1. 'MBr'\n",
       "2. 'MBK'\n",
       "3. 'Cavl'\n",
       "4. 'Cchm'\n",
       "5. 'Cphs'\n",
       "\n",
       "\n"
      ],
      "text/plain": [
       "[1] MBr  MBK  Cavl Cchm Cphs\n",
       "Levels: MBr MBK Cavl Cchm Cphs"
      ]
     },
     "metadata": {},
     "output_type": "display_data"
    }
   ],
   "source": [
    "# combine data\n",
    "bfdata = subset(bfdata, select = c('site', 'years', \n",
    "                                   'MBr', 'MBK', \n",
    "                                   'Cavl', 'Cchm', 'Cphs',  'model_type'))\n",
    "pre.pool <- melt(bfdata,id=c('site', 'years','model_type'))\n",
    "colnames(pre.pool)= c('site',  'years', 'model_type', 'Pool', 'pool_size')\n",
    "unique(pre.pool$Pool)\n",
    "# data prepare done"
   ]
  },
  {
   "cell_type": "markdown",
   "metadata": {},
   "source": [
    "### Area plot of each carbon pool"
   ]
  },
  {
   "cell_type": "code",
   "execution_count": 20,
   "metadata": {},
   "outputs": [],
   "source": [
    "col_pools = c( 'blue','#008001', # MBr MBK\n",
    "               '#fe0000', '#e5ab01',   '#808080' )    #  Cavail,  Cchem,  Cphys "
   ]
  },
  {
   "cell_type": "code",
   "execution_count": 21,
   "metadata": {},
   "outputs": [],
   "source": [
    "legend_labs = c(\n",
    "                expression(~italic(MB)[r]), \n",
    "                expression(~italic(MB)[K]),    \n",
    "                expression(~italic(C)[Avl]),\n",
    "                expression(~italic(C)[Chm]),    \n",
    "                expression(~italic(C)[Phs]))"
   ]
  },
  {
   "cell_type": "code",
   "execution_count": 22,
   "metadata": {},
   "outputs": [],
   "source": [
    "pre.pool$Pool = factor(pre.pool$Pool, level = c(\n",
    "                                            'MBr', 'MBK', 'Cavl',  'Cchm', 'Cphs'))"
   ]
  },
  {
   "cell_type": "code",
   "execution_count": 26,
   "metadata": {},
   "outputs": [],
   "source": [
    "pre.pool = pre.pool[pre.pool$years<=100, ]\n",
    "# area plot of carbon component\n",
    "p_cpools  <- ggplot(pre.pool, aes(x=years, y= pool_size))+\n",
    "             geom_area(aes(fill= Pool)) +\n",
    "             facet_grid(site ~ model_type) + \n",
    "             ylab(expression(paste('Concentration of carbon pools (gC kg'^'-1',' soil)'))) +\n",
    "             xlab('Time under bare fallow (years)') +\n",
    "             guides(fill=guide_legend(title=\"Pool name:\"))+\n",
    "             scale_fill_manual(values=col_pools,\n",
    "                               labels= legend_labs) "
   ]
  },
  {
   "cell_type": "code",
   "execution_count": 27,
   "metadata": {},
   "outputs": [],
   "source": [
    "# theme \n",
    "plt_cpools <- p_cpools + \n",
    "              theme_bw()  +  \n",
    "              theme(panel.grid.major = element_blank(),\n",
    "                    panel.grid.minor = element_blank()) +\n",
    "              theme(strip.text.x = element_text(size = 13, face = \"bold\"),     \n",
    "                    strip.text.y = element_text(size = 13, face = \"bold\")) +\n",
    "              theme(axis.text.x =element_text(size=12, angle = 30, hjust=1), \n",
    "                    axis.text.y =element_text(size=12),  \n",
    "                    axis.title=element_text(size=13)) +\n",
    "              theme(legend.text =element_text(size=13), \n",
    "                    legend.title=element_text(size=13))"
   ]
  },
  {
   "cell_type": "code",
   "execution_count": 28,
   "metadata": {},
   "outputs": [
    {
     "data": {
      "image/png": "[encoded data removed]",
      "text/plain": [
       "plot without title"
      ]
     },
     "metadata": {
      "image/png": {
       "height": 420,
       "width": 420
      }
     },
     "output_type": "display_data"
    }
   ],
   "source": [
    "plt_cpools"
   ]
  },
  {
   "cell_type": "markdown",
   "metadata": {
    "tags": []
   },
   "source": [
    "## Panel c: Plot carbon fractions at initial vs. final stages"
   ]
  },
  {
   "cell_type": "code",
   "execution_count": 29,
   "metadata": {},
   "outputs": [
    {
     "data": {
      "text/html": [
       "<style>\n",
       ".list-inline {list-style: none; margin:0; padding: 0}\n",
       ".list-inline>li {display: inline-block}\n",
       ".list-inline>li:not(:last-child)::after {content: \"\\00b7\"; padding: 0 .5ex}\n",
       "</style>\n",
       "<ol class=list-inline><li>'Askov'</li><li>'Grignon'</li><li>'Rothamsted'</li><li>'Ultuna'</li><li>'Versailles'</li></ol>\n"
      ],
      "text/latex": [
       "\\begin{enumerate*}\n",
       "\\item 'Askov'\n",
       "\\item 'Grignon'\n",
       "\\item 'Rothamsted'\n",
       "\\item 'Ultuna'\n",
       "\\item 'Versailles'\n",
       "\\end{enumerate*}\n"
      ],
      "text/markdown": [
       "1. 'Askov'\n",
       "2. 'Grignon'\n",
       "3. 'Rothamsted'\n",
       "4. 'Ultuna'\n",
       "5. 'Versailles'\n",
       "\n",
       "\n"
      ],
      "text/plain": [
       "[1] \"Askov\"      \"Grignon\"    \"Rothamsted\" \"Ultuna\"     \"Versailles\""
      ]
     },
     "metadata": {},
     "output_type": "display_data"
    }
   ],
   "source": [
    "pdata = read.csv(file = '../output/Initial_final_fraction_C_pools_Mabc.csv')\n",
    "unique(pdata$site)"
   ]
  },
  {
   "cell_type": "code",
   "execution_count": 30,
   "metadata": {},
   "outputs": [],
   "source": [
    "## plot \n",
    "pdata$Pool = factor(pdata$Pool, level = c('MBr', 'MBK', 'Cavl',  'Cchm', 'Cphs'))\n",
    "pdata$stage <- factor(pdata$stage, levels = c('Initial', 'Final'))\n",
    "p_cfraction <- ggplot(pdata, aes(fill=Pool, y=value, x=stage)) + \n",
    "                facet_grid( site ~ model_type ) +\n",
    "                geom_bar( stat=\"identity\", position=\"fill\",\n",
    "                        width = 0.75)+\n",
    "                ylab('Fraction of carbon pools in total SOC')+\n",
    "                xlab('Bare fallow stages') +\n",
    "                theme(legend.position=\"bottom\") +\n",
    "                scale_fill_manual(values=col_pools,\n",
    "                                  labels= legend_labs)"
   ]
  },
  {
   "cell_type": "code",
   "execution_count": 31,
   "metadata": {},
   "outputs": [],
   "source": [
    "# theme \n",
    "plt_cfraction <- p_cfraction + \n",
    "              theme_bw()  +  \n",
    "              theme(panel.grid.major = element_blank(),\n",
    "                    panel.grid.minor = element_blank()) +\n",
    "              theme(strip.text.x = element_text(size = 13, face='bold'),    \n",
    "                    strip.text.y = element_text(size = 13, face='bold')) +\n",
    "              theme(axis.text.x =element_text(size=13, angle = 45, hjust=1), \n",
    "                    axis.text.y =element_text(size=13),  \n",
    "                    axis.title=element_text(size=13)) +\n",
    "              theme(legend.text =element_text(size=13), \n",
    "                    legend.title=element_text(size=13)) +\n",
    "              guides(colour = guide_legend(nrow = 1))     # legend one row"
   ]
  },
  {
   "cell_type": "code",
   "execution_count": 32,
   "metadata": {
    "tags": []
   },
   "outputs": [
    {
     "data": {
      "image/png": "[encoded data removed]",
      "text/plain": [
       "plot without title"
      ]
     },
     "metadata": {
      "image/png": {
       "height": 420,
       "width": 420
      }
     },
     "output_type": "display_data"
    }
   ],
   "source": [
    "plt_cfraction"
   ]
  },
  {
   "cell_type": "code",
   "execution_count": 37,
   "metadata": {
    "tags": []
   },
   "outputs": [],
   "source": [
    "panel_b_c = ggarrange(plt_cpools, plt_cfraction,\n",
    "                    labels = c(\"(b)\", \"(c)\"),\n",
    "                    common.legend = TRUE,\n",
    "                    legend = 'bottom',\n",
    "                    ncol = 2, nrow = 1,\n",
    "                    widths = c(1.5, 1.1))\n",
    "ggsave(\"Fig.3-b-c.eps\", width = 9, height = 8,  dpi=600)\n",
    "ggsave(\"Fig.3-b-c.jpg\", width = 9, height = 8,  dpi=600)"
   ]
  },
  {
   "cell_type": "markdown",
   "metadata": {
    "tags": []
   },
   "source": [
    "#### Merge the three panels together"
   ]
  },
  {
   "cell_type": "code",
   "execution_count": 39,
   "metadata": {
    "tags": []
   },
   "outputs": [],
   "source": [
    "p_bfs = ggarrange(panel_a, panel_b_c,\n",
    "                 widths = c(4.8, 8.2))\n",
    "ggsave(\"Fig.3.eps\", width = 14, height = 8)"
   ]
  },
  {
   "cell_type": "code",
   "execution_count": null,
   "metadata": {},
   "outputs": [],
   "source": []
  }
 ],
 "metadata": {
  "kernelspec": {
   "display_name": "R",
   "language": "R",
   "name": "ir"
  },
  "language_info": {
   "codemirror_mode": "r",
   "file_extension": ".r",
   "mimetype": "text/x-r-source",
   "name": "R",
   "pygments_lexer": "r",
   "version": "4.0.3"
  }
 },
 "nbformat": 4,
 "nbformat_minor": 4
}
