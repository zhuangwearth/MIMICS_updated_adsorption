{
 "cells": [
  {
   "cell_type": "markdown",
   "metadata": {
    "tags": []
   },
   "source": [
    "# Parameter optimization and model simulation for MIMICSb"
   ]
  },
  {
   "cell_type": "markdown",
   "metadata": {},
   "source": [
    "Three Steps\n",
    "1. Load data lists of observation, model, and parameter ranges\n",
    "2. Conduct optimization\n",
    "3. Conduct simulation with the optimized parameters"
   ]
  },
  {
   "cell_type": "markdown",
   "metadata": {},
   "source": [
    "Both the long-term field data and laboratory incubations data for the soils from the same site were used for parameter optimization because the soils used for field and laboratory experiments should have the same initial C pool fractions at the specific site in theory.\n",
    "In this study, we only optimized beta that controls the microbial turnover rate and the initial pool sizes in order to minimize the issue of overfitting. All model parameters except for β were kept at their original values (Wieder et al., 2015) in the global simulations. "
   ]
  },
  {
   "cell_type": "code",
   "execution_count": 1,
   "metadata": {
    "tags": []
   },
   "outputs": [
    {
     "name": "stderr",
     "output_type": "stream",
     "text": [
      "Loading required package: deSolve\n",
      "\n",
      "Warning message:\n",
      "\"package 'deSolve' was built under R version 4.0.4\"\n",
      "Loading required package: parallel\n",
      "\n",
      "Loading required package: expm\n",
      "\n",
      "Warning message:\n",
      "\"package 'expm' was built under R version 4.0.4\"\n",
      "Loading required package: Matrix\n",
      "\n",
      "\n",
      "Attaching package: 'expm'\n",
      "\n",
      "\n",
      "The following object is masked from 'package:Matrix':\n",
      "\n",
      "    expm\n",
      "\n",
      "\n",
      "Loading required package: RUnit\n",
      "\n",
      "Warning message:\n",
      "\"package 'RUnit' was built under R version 4.0.4\"\n",
      "Loading required package: sets\n",
      "\n",
      "Warning message:\n",
      "\"package 'sets' was built under R version 4.0.4\"\n",
      "\n",
      "Attaching package: 'SoilR'\n",
      "\n",
      "\n",
      "The following object is masked from 'package:deSolve':\n",
      "\n",
      "    euler\n",
      "\n",
      "\n",
      "Warning message:\n",
      "\"package 'FME' was built under R version 4.0.4\"\n",
      "Loading required package: rootSolve\n",
      "\n",
      "Warning message:\n",
      "\"package 'rootSolve' was built under R version 4.0.5\"\n",
      "Loading required package: coda\n",
      "\n",
      "Warning message:\n",
      "\"package 'coda' was built under R version 4.0.4\"\n",
      "Loading required package: zoo\n",
      "\n",
      "Warning message:\n",
      "\"package 'zoo' was built under R version 4.0.5\"\n",
      "\n",
      "Attaching package: 'zoo'\n",
      "\n",
      "\n",
      "The following objects are masked from 'package:base':\n",
      "\n",
      "    as.Date, as.Date.numeric\n",
      "\n",
      "\n",
      "Loading required package: latticeExtra\n",
      "\n",
      "Warning message:\n",
      "\"package 'latticeExtra' was built under R version 4.0.5\"\n",
      "Loading required package: polynom\n",
      "\n",
      "Warning message:\n",
      "\"package 'polynom' was built under R version 4.0.5\"\n",
      "Loading required package: reshape\n",
      "\n",
      "Warning message:\n",
      "\"package 'reshape' was built under R version 4.0.5\"\n",
      "\n",
      "Attaching package: 'reshape'\n",
      "\n",
      "\n",
      "The following object is masked from 'package:Matrix':\n",
      "\n",
      "    expand\n",
      "\n",
      "\n",
      "Registered S3 method overwritten by 'ggplot2':\n",
      "  method        from\n",
      "  print.element sets\n",
      "\n",
      "\n",
      "Attaching package: 'hydromad'\n",
      "\n",
      "\n",
      "The following object is masked from 'package:SoilR':\n",
      "\n",
      "    plot\n",
      "\n",
      "\n",
      "The following objects are masked from 'package:Matrix':\n",
      "\n",
      "    print, summary, update\n",
      "\n",
      "\n",
      "Warning message:\n",
      "\"package 'DEoptim' was built under R version 4.0.5\"\n",
      "\n",
      "DEoptim package\n",
      "Differential Evolution algorithm in R\n",
      "Authors: D. Ardia, K. Mullen, B. Peterson and J. Ulrich\n",
      "\n",
      "\n"
     ]
    }
   ],
   "source": [
    "# load library\n",
    "library(SoilR) # Load the  SoilR  exp version\n",
    "library(FME)\n",
    "library(MASS)\n",
    "library(lattice)\n",
    "# library(rtop)\n",
    "library(hydromad)\n",
    "library(DEoptim)"
   ]
  },
  {
   "cell_type": "markdown",
   "metadata": {
    "tags": []
   },
   "source": [
    "# 1. Load data lists of observation, model, and parameter ranges"
   ]
  },
  {
   "cell_type": "markdown",
   "metadata": {},
   "source": [
    "## 1.1 Load data lists of observation"
   ]
  },
  {
   "cell_type": "code",
   "execution_count": 2,
   "metadata": {},
   "outputs": [],
   "source": [
    "### 1. laod data that combine both field bare fallow \n",
    "### and laboratory incubation dataset\n",
    "bfinc = read.csv(file = 'dinput/bf_inc_initial_final.csv')\n",
    "# note: for long-term bare fallow (LTBF), date_sin is yearly step。\n",
    "# for initial and final incubation (inital.inc and final.inc), date_sin is daily step.\n",
    "# The unit of total SOC is mgC per cm3"
   ]
  },
  {
   "cell_type": "code",
   "execution_count": 3,
   "metadata": {},
   "outputs": [
    {
     "data": {
      "text/html": [
       "<style>\n",
       ".list-inline {list-style: none; margin:0; padding: 0}\n",
       ".list-inline>li {display: inline-block}\n",
       ".list-inline>li:not(:last-child)::after {content: \"\\00b7\"; padding: 0 .5ex}\n",
       "</style>\n",
       "<ol class=list-inline><li>'Askov'</li><li>'Grignon'</li><li>'Rothamsted'</li><li>'Ultuna'</li><li>'Versailles'</li></ol>\n"
      ],
      "text/latex": [
       "\\begin{enumerate*}\n",
       "\\item 'Askov'\n",
       "\\item 'Grignon'\n",
       "\\item 'Rothamsted'\n",
       "\\item 'Ultuna'\n",
       "\\item 'Versailles'\n",
       "\\end{enumerate*}\n"
      ],
      "text/markdown": [
       "1. 'Askov'\n",
       "2. 'Grignon'\n",
       "3. 'Rothamsted'\n",
       "4. 'Ultuna'\n",
       "5. 'Versailles'\n",
       "\n",
       "\n"
      ],
      "text/plain": [
       "[1] \"Askov\"      \"Grignon\"    \"Rothamsted\" \"Ultuna\"     \"Versailles\""
      ]
     },
     "metadata": {},
     "output_type": "display_data"
    }
   ],
   "source": [
    "unique(bfinc$site)"
   ]
  },
  {
   "cell_type": "code",
   "execution_count": 4,
   "metadata": {},
   "outputs": [
    {
     "data": {
      "text/html": [
       "<table class=\"dataframe\">\n",
       "<caption>A data.frame: 6 × 7</caption>\n",
       "<thead>\n",
       "\t<tr><th></th><th scope=col>site</th><th scope=col>temp</th><th scope=col>date_sin</th><th scope=col>SOC_mgC_per_cm3</th><th scope=col>bulkD</th><th scope=col>SOC_gC_per_kgSoil</th><th scope=col>exp_type</th></tr>\n",
       "\t<tr><th></th><th scope=col>&lt;chr&gt;</th><th scope=col>&lt;dbl&gt;</th><th scope=col>&lt;int&gt;</th><th scope=col>&lt;dbl&gt;</th><th scope=col>&lt;dbl&gt;</th><th scope=col>&lt;dbl&gt;</th><th scope=col>&lt;chr&gt;</th></tr>\n",
       "</thead>\n",
       "<tbody>\n",
       "\t<tr><th scope=row>1</th><td>Askov</td><td>7.8</td><td>0</td><td>26.0250</td><td>1.5</td><td>17.35</td><td>LTBF</td></tr>\n",
       "\t<tr><th scope=row>2</th><td>Askov</td><td>7.8</td><td>1</td><td>25.1625</td><td>1.5</td><td>16.78</td><td>LTBF</td></tr>\n",
       "\t<tr><th scope=row>3</th><td>Askov</td><td>7.8</td><td>2</td><td>25.6500</td><td>1.5</td><td>17.10</td><td>LTBF</td></tr>\n",
       "\t<tr><th scope=row>4</th><td>Askov</td><td>7.8</td><td>3</td><td>24.8250</td><td>1.5</td><td>16.55</td><td>LTBF</td></tr>\n",
       "\t<tr><th scope=row>5</th><td>Askov</td><td>7.8</td><td>4</td><td>24.7500</td><td>1.5</td><td>16.50</td><td>LTBF</td></tr>\n",
       "\t<tr><th scope=row>6</th><td>Askov</td><td>7.8</td><td>5</td><td>24.8250</td><td>1.5</td><td>16.55</td><td>LTBF</td></tr>\n",
       "</tbody>\n",
       "</table>\n"
      ],
      "text/latex": [
       "A data.frame: 6 × 7\n",
       "\\begin{tabular}{r|lllllll}\n",
       "  & site & temp & date\\_sin & SOC\\_mgC\\_per\\_cm3 & bulkD & SOC\\_gC\\_per\\_kgSoil & exp\\_type\\\\\n",
       "  & <chr> & <dbl> & <int> & <dbl> & <dbl> & <dbl> & <chr>\\\\\n",
       "\\hline\n",
       "\t1 & Askov & 7.8 & 0 & 26.0250 & 1.5 & 17.35 & LTBF\\\\\n",
       "\t2 & Askov & 7.8 & 1 & 25.1625 & 1.5 & 16.78 & LTBF\\\\\n",
       "\t3 & Askov & 7.8 & 2 & 25.6500 & 1.5 & 17.10 & LTBF\\\\\n",
       "\t4 & Askov & 7.8 & 3 & 24.8250 & 1.5 & 16.55 & LTBF\\\\\n",
       "\t5 & Askov & 7.8 & 4 & 24.7500 & 1.5 & 16.50 & LTBF\\\\\n",
       "\t6 & Askov & 7.8 & 5 & 24.8250 & 1.5 & 16.55 & LTBF\\\\\n",
       "\\end{tabular}\n"
      ],
      "text/markdown": [
       "\n",
       "A data.frame: 6 × 7\n",
       "\n",
       "| <!--/--> | site &lt;chr&gt; | temp &lt;dbl&gt; | date_sin &lt;int&gt; | SOC_mgC_per_cm3 &lt;dbl&gt; | bulkD &lt;dbl&gt; | SOC_gC_per_kgSoil &lt;dbl&gt; | exp_type &lt;chr&gt; |\n",
       "|---|---|---|---|---|---|---|---|\n",
       "| 1 | Askov | 7.8 | 0 | 26.0250 | 1.5 | 17.35 | LTBF |\n",
       "| 2 | Askov | 7.8 | 1 | 25.1625 | 1.5 | 16.78 | LTBF |\n",
       "| 3 | Askov | 7.8 | 2 | 25.6500 | 1.5 | 17.10 | LTBF |\n",
       "| 4 | Askov | 7.8 | 3 | 24.8250 | 1.5 | 16.55 | LTBF |\n",
       "| 5 | Askov | 7.8 | 4 | 24.7500 | 1.5 | 16.50 | LTBF |\n",
       "| 6 | Askov | 7.8 | 5 | 24.8250 | 1.5 | 16.55 | LTBF |\n",
       "\n"
      ],
      "text/plain": [
       "  site  temp date_sin SOC_mgC_per_cm3 bulkD SOC_gC_per_kgSoil exp_type\n",
       "1 Askov 7.8  0        26.0250         1.5   17.35             LTBF    \n",
       "2 Askov 7.8  1        25.1625         1.5   16.78             LTBF    \n",
       "3 Askov 7.8  2        25.6500         1.5   17.10             LTBF    \n",
       "4 Askov 7.8  3        24.8250         1.5   16.55             LTBF    \n",
       "5 Askov 7.8  4        24.7500         1.5   16.50             LTBF    \n",
       "6 Askov 7.8  5        24.8250         1.5   16.55             LTBF    "
      ]
     },
     "metadata": {},
     "output_type": "display_data"
    }
   ],
   "source": [
    "head(bfinc) "
   ]
  },
  {
   "cell_type": "code",
   "execution_count": 5,
   "metadata": {},
   "outputs": [
    {
     "data": {
      "text/html": [
       "<table class=\"dataframe\">\n",
       "<caption>A data.frame: 6 × 7</caption>\n",
       "<thead>\n",
       "\t<tr><th></th><th scope=col>site</th><th scope=col>temp</th><th scope=col>date_sin</th><th scope=col>SOC_mgC_per_cm3</th><th scope=col>bulkD</th><th scope=col>SOC_gC_per_kgSoil</th><th scope=col>exp_type</th></tr>\n",
       "\t<tr><th></th><th scope=col>&lt;chr&gt;</th><th scope=col>&lt;dbl&gt;</th><th scope=col>&lt;int&gt;</th><th scope=col>&lt;dbl&gt;</th><th scope=col>&lt;dbl&gt;</th><th scope=col>&lt;dbl&gt;</th><th scope=col>&lt;chr&gt;</th></tr>\n",
       "</thead>\n",
       "<tbody>\n",
       "\t<tr><th scope=row>13586</th><td>Versailles</td><td>35</td><td> 42</td><td>9.193113</td><td>1.44</td><td>6.384106</td><td>final.inc</td></tr>\n",
       "\t<tr><th scope=row>13614</th><td>Versailles</td><td>35</td><td> 70</td><td>9.144711</td><td>1.44</td><td>6.350494</td><td>final.inc</td></tr>\n",
       "\t<tr><th scope=row>13649</th><td>Versailles</td><td>35</td><td>105</td><td>9.095017</td><td>1.44</td><td>6.315984</td><td>final.inc</td></tr>\n",
       "\t<tr><th scope=row>13726</th><td>Versailles</td><td>35</td><td>182</td><td>8.997480</td><td>1.44</td><td>6.248250</td><td>final.inc</td></tr>\n",
       "\t<tr><th scope=row>13840</th><td>Versailles</td><td>35</td><td>296</td><td>8.869601</td><td>1.44</td><td>6.159445</td><td>final.inc</td></tr>\n",
       "\t<tr><th scope=row>13971</th><td>Versailles</td><td>35</td><td>427</td><td>8.798917</td><td>1.44</td><td>6.110359</td><td>final.inc</td></tr>\n",
       "</tbody>\n",
       "</table>\n"
      ],
      "text/latex": [
       "A data.frame: 6 × 7\n",
       "\\begin{tabular}{r|lllllll}\n",
       "  & site & temp & date\\_sin & SOC\\_mgC\\_per\\_cm3 & bulkD & SOC\\_gC\\_per\\_kgSoil & exp\\_type\\\\\n",
       "  & <chr> & <dbl> & <int> & <dbl> & <dbl> & <dbl> & <chr>\\\\\n",
       "\\hline\n",
       "\t13586 & Versailles & 35 &  42 & 9.193113 & 1.44 & 6.384106 & final.inc\\\\\n",
       "\t13614 & Versailles & 35 &  70 & 9.144711 & 1.44 & 6.350494 & final.inc\\\\\n",
       "\t13649 & Versailles & 35 & 105 & 9.095017 & 1.44 & 6.315984 & final.inc\\\\\n",
       "\t13726 & Versailles & 35 & 182 & 8.997480 & 1.44 & 6.248250 & final.inc\\\\\n",
       "\t13840 & Versailles & 35 & 296 & 8.869601 & 1.44 & 6.159445 & final.inc\\\\\n",
       "\t13971 & Versailles & 35 & 427 & 8.798917 & 1.44 & 6.110359 & final.inc\\\\\n",
       "\\end{tabular}\n"
      ],
      "text/markdown": [
       "\n",
       "A data.frame: 6 × 7\n",
       "\n",
       "| <!--/--> | site &lt;chr&gt; | temp &lt;dbl&gt; | date_sin &lt;int&gt; | SOC_mgC_per_cm3 &lt;dbl&gt; | bulkD &lt;dbl&gt; | SOC_gC_per_kgSoil &lt;dbl&gt; | exp_type &lt;chr&gt; |\n",
       "|---|---|---|---|---|---|---|---|\n",
       "| 13586 | Versailles | 35 |  42 | 9.193113 | 1.44 | 6.384106 | final.inc |\n",
       "| 13614 | Versailles | 35 |  70 | 9.144711 | 1.44 | 6.350494 | final.inc |\n",
       "| 13649 | Versailles | 35 | 105 | 9.095017 | 1.44 | 6.315984 | final.inc |\n",
       "| 13726 | Versailles | 35 | 182 | 8.997480 | 1.44 | 6.248250 | final.inc |\n",
       "| 13840 | Versailles | 35 | 296 | 8.869601 | 1.44 | 6.159445 | final.inc |\n",
       "| 13971 | Versailles | 35 | 427 | 8.798917 | 1.44 | 6.110359 | final.inc |\n",
       "\n"
      ],
      "text/plain": [
       "      site       temp date_sin SOC_mgC_per_cm3 bulkD SOC_gC_per_kgSoil\n",
       "13586 Versailles 35    42      9.193113        1.44  6.384106         \n",
       "13614 Versailles 35    70      9.144711        1.44  6.350494         \n",
       "13649 Versailles 35   105      9.095017        1.44  6.315984         \n",
       "13726 Versailles 35   182      8.997480        1.44  6.248250         \n",
       "13840 Versailles 35   296      8.869601        1.44  6.159445         \n",
       "13971 Versailles 35   427      8.798917        1.44  6.110359         \n",
       "      exp_type \n",
       "13586 final.inc\n",
       "13614 final.inc\n",
       "13649 final.inc\n",
       "13726 final.inc\n",
       "13840 final.inc\n",
       "13971 final.inc"
      ]
     },
     "metadata": {},
     "output_type": "display_data"
    }
   ],
   "source": [
    "tail(na.omit(bfinc))"
   ]
  },
  {
   "cell_type": "code",
   "execution_count": 6,
   "metadata": {},
   "outputs": [],
   "source": [
    "# load site-info containing clay content, initial TSOC, temperature, etc\n",
    "siteinfo <- read.csv(file = 'dinput/site5info.csv')"
   ]
  },
  {
   "cell_type": "markdown",
   "metadata": {
    "tags": []
   },
   "source": [
    "## 1.2 Load model"
   ]
  },
  {
   "cell_type": "code",
   "execution_count": 7,
   "metadata": {},
   "outputs": [],
   "source": [
    "# Consturct total SOC calculation function\n",
    "model_name = 'MIMICSb'\n",
    "# load model\n",
    "source(paste0('code.proc/',model_name,'.R'))\n",
    "\n",
    "# model to get total carbon\n",
    "source('code.proc/TSOC_4temp_bf_MIMICSb.R')"
   ]
  },
  {
   "cell_type": "markdown",
   "metadata": {
    "tags": []
   },
   "source": [
    "## 1.3 Load parameter ranges"
   ]
  },
  {
   "cell_type": "code",
   "execution_count": 8,
   "metadata": {},
   "outputs": [
    {
     "data": {
      "text/html": [
       "<table class=\"dataframe\">\n",
       "<caption>A data.frame: 5 × 3</caption>\n",
       "<thead>\n",
       "\t<tr><th></th><th scope=col>lower</th><th scope=col>best</th><th scope=col>upper</th></tr>\n",
       "\t<tr><th></th><th scope=col>&lt;dbl&gt;</th><th scope=col>&lt;dbl&gt;</th><th scope=col>&lt;dbl&gt;</th></tr>\n",
       "</thead>\n",
       "<tbody>\n",
       "\t<tr><th scope=row>fMIC_1</th><td>0.0010</td><td>0.012</td><td>0.025</td></tr>\n",
       "\t<tr><th scope=row>fMIC_2</th><td>0.0010</td><td>0.012</td><td>0.025</td></tr>\n",
       "\t<tr><th scope=row>fSOM_1</th><td>0.1000</td><td>0.500</td><td>0.750</td></tr>\n",
       "\t<tr><th scope=row>fSOM_3</th><td>0.0010</td><td>0.150</td><td>0.200</td></tr>\n",
       "\t<tr><th scope=row>beta</th><td>1.0001</td><td>1.500</td><td>2.000</td></tr>\n",
       "</tbody>\n",
       "</table>\n"
      ],
      "text/latex": [
       "A data.frame: 5 × 3\n",
       "\\begin{tabular}{r|lll}\n",
       "  & lower & best & upper\\\\\n",
       "  & <dbl> & <dbl> & <dbl>\\\\\n",
       "\\hline\n",
       "\tfMIC\\_1 & 0.0010 & 0.012 & 0.025\\\\\n",
       "\tfMIC\\_2 & 0.0010 & 0.012 & 0.025\\\\\n",
       "\tfSOM\\_1 & 0.1000 & 0.500 & 0.750\\\\\n",
       "\tfSOM\\_3 & 0.0010 & 0.150 & 0.200\\\\\n",
       "\tbeta & 1.0001 & 1.500 & 2.000\\\\\n",
       "\\end{tabular}\n"
      ],
      "text/markdown": [
       "\n",
       "A data.frame: 5 × 3\n",
       "\n",
       "| <!--/--> | lower &lt;dbl&gt; | best &lt;dbl&gt; | upper &lt;dbl&gt; |\n",
       "|---|---|---|---|\n",
       "| fMIC_1 | 0.0010 | 0.012 | 0.025 |\n",
       "| fMIC_2 | 0.0010 | 0.012 | 0.025 |\n",
       "| fSOM_1 | 0.1000 | 0.500 | 0.750 |\n",
       "| fSOM_3 | 0.0010 | 0.150 | 0.200 |\n",
       "| beta | 1.0001 | 1.500 | 2.000 |\n",
       "\n"
      ],
      "text/plain": [
       "       lower  best  upper\n",
       "fMIC_1 0.0010 0.012 0.025\n",
       "fMIC_2 0.0010 0.012 0.025\n",
       "fSOM_1 0.1000 0.500 0.750\n",
       "fSOM_3 0.0010 0.150 0.200\n",
       "beta   1.0001 1.500 2.000"
      ]
     },
     "metadata": {},
     "output_type": "display_data"
    }
   ],
   "source": [
    "# load parameter range for parameter needing optimization\n",
    "nopt = c('fMIC_1', 'fMIC_2', 'fSOM_1', 'fSOM_3', 'beta')\n",
    "parm_range = data.frame(parname = nopt,\n",
    "                        lower   = c(0.001, 0.001, 0.1, 0.001, 1.0001), \n",
    "                        best    = c(0.012, 0.012, 0.50, 0.15, 1.5), \n",
    "                        upper   = c(0.025, 0.025, 0.75, 0.2,  2))\n",
    "# load reference parameter definition (best, upper, lower)\n",
    "refPars <- parm_range[, 2:4]\n",
    "rownames(refPars) = nopt\n",
    "refPars"
   ]
  },
  {
   "cell_type": "markdown",
   "metadata": {},
   "source": [
    "# 2. Conduct optimization"
   ]
  },
  {
   "cell_type": "markdown",
   "metadata": {
    "tags": []
   },
   "source": [
    "## 2.1 Conduct optimization for 4 sites"
   ]
  },
  {
   "cell_type": "code",
   "execution_count": 9,
   "metadata": {},
   "outputs": [],
   "source": [
    "# Objective function, summing up squared differences\n",
    "OFUN = function(pars, x,  yobs) {\n",
    "  yvals = TSOC_4temp_bf_MIMICS(x, pars)\n",
    "  sum((yvals-yobs)^2)\n",
    "}"
   ]
  },
  {
   "cell_type": "code",
   "execution_count": 10,
   "metadata": {},
   "outputs": [],
   "source": [
    "# conduct SCE opitimization\n",
    "nsite = c('Askov', 'Grignon', 'Ultuna','Versailles')\n",
    "MATS = c(7.8, 10.7, 5.5, 10.7) # site temperature\n",
    "# data.frame storing the optimized parameter results\n",
    "parm_opt <- data.frame(matrix(NA, ncol = length(nopt), nrow = length(nsite)))\n",
    "colnames(parm_opt) <- nopt\n",
    "rownames(parm_opt) <- nsite"
   ]
  },
  {
   "cell_type": "code",
   "execution_count": 11,
   "metadata": {},
   "outputs": [],
   "source": [
    "obs_data = na.omit(bfinc)\n",
    "# the final incubation is sampled at  \n",
    "# last = c(1982, 2007, 2009, 2008) # four the four sites\n",
    "lasts = c(26, 48, 53, 79)         # date_sin"
   ]
  },
  {
   "cell_type": "code",
   "execution_count": 12,
   "metadata": {},
   "outputs": [
    {
     "name": "stdout",
     "output_type": "stream",
     "text": [
      "[1] \"Askov bulkD 1.5\"\n",
      "[1] \"Grignon bulkD 1.21\"\n",
      "[1] \"Ultuna bulkD 1.44\"\n",
      "[1] \"Versailles bulkD 1.44\"\n"
     ]
    }
   ],
   "source": [
    " for (i in seq(1,4) ){\n",
    "    isite = nsite[i]\n",
    "    last  = lasts[i]\n",
    "    driver = obs_data[obs_data$site == isite, ]\n",
    "    CLAY = siteinfo[siteinfo$site==isite, ]$CLAY\n",
    "    MAT = siteinfo[siteinfo$site==isite, ]$mat\n",
    "    \n",
    "    ibulkD = max(siteinfo[siteinfo$site==isite, 'bulkden_ini'],\n",
    "                  siteinfo[siteinfo$site==isite, 'bulkden_fin'] )\n",
    "    print(paste0(isite, ' bulkD ', ibulkD))\n",
    "     \n",
    "    # get site-specific parameter ranges for fQmax\n",
    "    Fphs_max = siteinfo[siteinfo$site == isite, ]$Fphs_max\n",
    "    refPars[3,3] = Fphs_max\n",
    "    refPars[3,2] = max(Fphs_max/2, 0.11)\n",
    "    refPars[3,1] = 0.1\n",
    "     \n",
    "    sceuares = SCEoptim(OFUN, par = refPars$best, lower = refPars$lower,\n",
    "                    upper = refPars$upper, x = driver, yobs = driver$SOC_mgC_per_cm3)\n",
    "    parm_opt[isite,] = sceuares$par\n",
    " }"
   ]
  },
  {
   "cell_type": "code",
   "execution_count": 13,
   "metadata": {
    "scrolled": true,
    "tags": []
   },
   "outputs": [
    {
     "data": {
      "text/html": [
       "<table class=\"dataframe\">\n",
       "<caption>A data.frame: 4 × 5</caption>\n",
       "<thead>\n",
       "\t<tr><th></th><th scope=col>fMIC_1</th><th scope=col>fMIC_2</th><th scope=col>fSOM_1</th><th scope=col>fSOM_3</th><th scope=col>beta</th></tr>\n",
       "\t<tr><th></th><th scope=col>&lt;dbl&gt;</th><th scope=col>&lt;dbl&gt;</th><th scope=col>&lt;dbl&gt;</th><th scope=col>&lt;dbl&gt;</th><th scope=col>&lt;dbl&gt;</th></tr>\n",
       "</thead>\n",
       "<tbody>\n",
       "\t<tr><th scope=row>Askov</th><td>0.01730376</td><td>0.001000000</td><td>0.1689912</td><td>0.01031547</td><td>1.122187</td></tr>\n",
       "\t<tr><th scope=row>Grignon</th><td>0.02499683</td><td>0.001000000</td><td>0.3365588</td><td>0.07907446</td><td>1.197534</td></tr>\n",
       "\t<tr><th scope=row>Ultuna</th><td>0.02500000</td><td>0.001367913</td><td>0.3801833</td><td>0.08744170</td><td>1.151023</td></tr>\n",
       "\t<tr><th scope=row>Versailles</th><td>0.02499989</td><td>0.001000000</td><td>0.1960947</td><td>0.04480430</td><td>1.166910</td></tr>\n",
       "</tbody>\n",
       "</table>\n"
      ],
      "text/latex": [
       "A data.frame: 4 × 5\n",
       "\\begin{tabular}{r|lllll}\n",
       "  & fMIC\\_1 & fMIC\\_2 & fSOM\\_1 & fSOM\\_3 & beta\\\\\n",
       "  & <dbl> & <dbl> & <dbl> & <dbl> & <dbl>\\\\\n",
       "\\hline\n",
       "\tAskov & 0.01730376 & 0.001000000 & 0.1689912 & 0.01031547 & 1.122187\\\\\n",
       "\tGrignon & 0.02499683 & 0.001000000 & 0.3365588 & 0.07907446 & 1.197534\\\\\n",
       "\tUltuna & 0.02500000 & 0.001367913 & 0.3801833 & 0.08744170 & 1.151023\\\\\n",
       "\tVersailles & 0.02499989 & 0.001000000 & 0.1960947 & 0.04480430 & 1.166910\\\\\n",
       "\\end{tabular}\n"
      ],
      "text/markdown": [
       "\n",
       "A data.frame: 4 × 5\n",
       "\n",
       "| <!--/--> | fMIC_1 &lt;dbl&gt; | fMIC_2 &lt;dbl&gt; | fSOM_1 &lt;dbl&gt; | fSOM_3 &lt;dbl&gt; | beta &lt;dbl&gt; |\n",
       "|---|---|---|---|---|---|\n",
       "| Askov | 0.01730376 | 0.001000000 | 0.1689912 | 0.01031547 | 1.122187 |\n",
       "| Grignon | 0.02499683 | 0.001000000 | 0.3365588 | 0.07907446 | 1.197534 |\n",
       "| Ultuna | 0.02500000 | 0.001367913 | 0.3801833 | 0.08744170 | 1.151023 |\n",
       "| Versailles | 0.02499989 | 0.001000000 | 0.1960947 | 0.04480430 | 1.166910 |\n",
       "\n"
      ],
      "text/plain": [
       "           fMIC_1     fMIC_2      fSOM_1    fSOM_3     beta    \n",
       "Askov      0.01730376 0.001000000 0.1689912 0.01031547 1.122187\n",
       "Grignon    0.02499683 0.001000000 0.3365588 0.07907446 1.197534\n",
       "Ultuna     0.02500000 0.001367913 0.3801833 0.08744170 1.151023\n",
       "Versailles 0.02499989 0.001000000 0.1960947 0.04480430 1.166910"
      ]
     },
     "metadata": {},
     "output_type": "display_data"
    }
   ],
   "source": [
    "parm_opt"
   ]
  },
  {
   "cell_type": "markdown",
   "metadata": {
    "tags": []
   },
   "source": [
    "## 2.2 Conduct optimization for Rothamsted"
   ]
  },
  {
   "cell_type": "markdown",
   "metadata": {},
   "source": [
    "For the site Rothamsted where no incubation experiments were conducted, the observed vs. predicted data lists of TSOC only include the field bare fallow dataset. "
   ]
  },
  {
   "cell_type": "code",
   "execution_count": 14,
   "metadata": {},
   "outputs": [],
   "source": [
    "# Consturct total SOC calculation function\n",
    "# model to get total carbon\n",
    "TSOC_Model_bf = function(driver, pars){\n",
    "        fMIC_1 = pars[1]; fMIC_2 = pars[2]\n",
    "        fSOM_1 = pars[3]; fSOM_3 = pars[4]\n",
    "        fSOM_2 = 1- fMIC_1 - fMIC_2 - fSOM_1 - fSOM_3\n",
    "        beta   = pars[5]\n",
    "        Ex= MIMICS_BF(t = driver$date_sin, \n",
    "                      timestep = 24*365, # yearly\n",
    "                      bulkD = ibulkD,\n",
    "                      TSOI = TSOI,\n",
    "                      CLAY = CLAY,\n",
    "                      beta = beta,\n",
    "                      ival = c(MIC_1= fMIC_1 * cint, MIC_2=fMIC_2*cint, \n",
    "                               SOM_1= fSOM_1 * cint, SOM_2=fSOM_2*cint, \n",
    "                               SOM_3= fSOM_3*cint))\n",
    "        Ct=getC(Ex)\n",
    "        return(TSOC_pre =rowSums(Ct)) # total carbon storage\n",
    "        }"
   ]
  },
  {
   "cell_type": "code",
   "execution_count": 15,
   "metadata": {},
   "outputs": [],
   "source": [
    "# Objective function, summing up squared differences\n",
    "OFUN_bf = function(pars, x,  yobs) {\n",
    "  yvals = TSOC_Model_bf(x, pars)\n",
    "  sum((yvals-yobs)^2)\n",
    "}"
   ]
  },
  {
   "cell_type": "code",
   "execution_count": 16,
   "metadata": {},
   "outputs": [],
   "source": [
    "i = 'Rothamsted'\n",
    "bf_roth = na.omit(bfinc[bfinc$site == i,])\n",
    "\n",
    "TSOI = siteinfo[siteinfo$site==i, 'mat']\n",
    "CLAY = siteinfo[siteinfo$site==i, ]$CLAY\n",
    "ibulkD = max(siteinfo[siteinfo$site==isite, 'bulkden_ini'],\n",
    "              siteinfo[siteinfo$site==isite, 'bulkden_fin'] )\n",
    "cint = bf_roth[1, 'SOC_mgC_per_cm3']  # the initial total carbon pools\n",
    "\n",
    "# get site-specific parameter ranges for fQmax\n",
    "Fphs_max = siteinfo[siteinfo$site == i, ]$Fphs_max\n",
    "refPars[3,3] = Fphs_max\n",
    "refPars[3,2] = max(Fphs_max/2, 0.1001)\n",
    "refPars[3,1] = 0.1\n",
    "\n",
    "sceuares_roth = SCEoptim(OFUN_bf, par = refPars$best, lower = refPars$lower,\n",
    "                    upper = refPars$upper, x = bf_roth, yobs = bf_roth$SOC_mgC_per_cm3) "
   ]
  },
  {
   "cell_type": "code",
   "execution_count": 17,
   "metadata": {
    "scrolled": true
   },
   "outputs": [
    {
     "data": {
      "text/html": [
       "<table class=\"dataframe\">\n",
       "<caption>A data.frame: 5 × 6</caption>\n",
       "<thead>\n",
       "\t<tr><th></th><th scope=col>fMIC_1</th><th scope=col>fMIC_2</th><th scope=col>fSOM_1</th><th scope=col>fSOM_3</th><th scope=col>beta</th><th scope=col>site</th></tr>\n",
       "\t<tr><th></th><th scope=col>&lt;dbl&gt;</th><th scope=col>&lt;dbl&gt;</th><th scope=col>&lt;dbl&gt;</th><th scope=col>&lt;dbl&gt;</th><th scope=col>&lt;dbl&gt;</th><th scope=col>&lt;chr&gt;</th></tr>\n",
       "</thead>\n",
       "<tbody>\n",
       "\t<tr><th scope=row>Askov</th><td>0.01730376</td><td>0.001000000</td><td>0.1689912</td><td>0.01031547</td><td>1.122187</td><td>Askov     </td></tr>\n",
       "\t<tr><th scope=row>Grignon</th><td>0.02499683</td><td>0.001000000</td><td>0.3365588</td><td>0.07907446</td><td>1.197534</td><td>Grignon   </td></tr>\n",
       "\t<tr><th scope=row>Ultuna</th><td>0.02500000</td><td>0.001367913</td><td>0.3801833</td><td>0.08744170</td><td>1.151023</td><td>Ultuna    </td></tr>\n",
       "\t<tr><th scope=row>Versailles</th><td>0.02499989</td><td>0.001000000</td><td>0.1960947</td><td>0.04480430</td><td>1.166910</td><td>Versailles</td></tr>\n",
       "\t<tr><th scope=row>5</th><td>0.02499825</td><td>0.017434764</td><td>0.1000002</td><td>0.05382432</td><td>1.082135</td><td>Rothamsted</td></tr>\n",
       "</tbody>\n",
       "</table>\n"
      ],
      "text/latex": [
       "A data.frame: 5 × 6\n",
       "\\begin{tabular}{r|llllll}\n",
       "  & fMIC\\_1 & fMIC\\_2 & fSOM\\_1 & fSOM\\_3 & beta & site\\\\\n",
       "  & <dbl> & <dbl> & <dbl> & <dbl> & <dbl> & <chr>\\\\\n",
       "\\hline\n",
       "\tAskov & 0.01730376 & 0.001000000 & 0.1689912 & 0.01031547 & 1.122187 & Askov     \\\\\n",
       "\tGrignon & 0.02499683 & 0.001000000 & 0.3365588 & 0.07907446 & 1.197534 & Grignon   \\\\\n",
       "\tUltuna & 0.02500000 & 0.001367913 & 0.3801833 & 0.08744170 & 1.151023 & Ultuna    \\\\\n",
       "\tVersailles & 0.02499989 & 0.001000000 & 0.1960947 & 0.04480430 & 1.166910 & Versailles\\\\\n",
       "\t5 & 0.02499825 & 0.017434764 & 0.1000002 & 0.05382432 & 1.082135 & Rothamsted\\\\\n",
       "\\end{tabular}\n"
      ],
      "text/markdown": [
       "\n",
       "A data.frame: 5 × 6\n",
       "\n",
       "| <!--/--> | fMIC_1 &lt;dbl&gt; | fMIC_2 &lt;dbl&gt; | fSOM_1 &lt;dbl&gt; | fSOM_3 &lt;dbl&gt; | beta &lt;dbl&gt; | site &lt;chr&gt; |\n",
       "|---|---|---|---|---|---|---|\n",
       "| Askov | 0.01730376 | 0.001000000 | 0.1689912 | 0.01031547 | 1.122187 | Askov      |\n",
       "| Grignon | 0.02499683 | 0.001000000 | 0.3365588 | 0.07907446 | 1.197534 | Grignon    |\n",
       "| Ultuna | 0.02500000 | 0.001367913 | 0.3801833 | 0.08744170 | 1.151023 | Ultuna     |\n",
       "| Versailles | 0.02499989 | 0.001000000 | 0.1960947 | 0.04480430 | 1.166910 | Versailles |\n",
       "| 5 | 0.02499825 | 0.017434764 | 0.1000002 | 0.05382432 | 1.082135 | Rothamsted |\n",
       "\n"
      ],
      "text/plain": [
       "           fMIC_1     fMIC_2      fSOM_1    fSOM_3     beta     site      \n",
       "Askov      0.01730376 0.001000000 0.1689912 0.01031547 1.122187 Askov     \n",
       "Grignon    0.02499683 0.001000000 0.3365588 0.07907446 1.197534 Grignon   \n",
       "Ultuna     0.02500000 0.001367913 0.3801833 0.08744170 1.151023 Ultuna    \n",
       "Versailles 0.02499989 0.001000000 0.1960947 0.04480430 1.166910 Versailles\n",
       "5          0.02499825 0.017434764 0.1000002 0.05382432 1.082135 Rothamsted"
      ]
     },
     "metadata": {},
     "output_type": "display_data"
    }
   ],
   "source": [
    "par_roth = sceuares_roth$par\n",
    "parm_opt = rbind(parm_opt, par_roth)\n",
    "parm_opt$site = c('Askov', 'Grignon', 'Ultuna','Versailles', 'Rothamsted')\n",
    "parm_opt # from rtop"
   ]
  },
  {
   "cell_type": "code",
   "execution_count": 18,
   "metadata": {},
   "outputs": [],
   "source": [
    "model_name = 'MIMICSb'\n",
    "write.csv(parm_opt, file = paste0('output/parameter_opt_', model_name,'.csv'), row.names = F)\n",
    "# parameter optimization END!"
   ]
  },
  {
   "cell_type": "markdown",
   "metadata": {},
   "source": [
    "# 3 Conduct simulation with the optimized parameters"
   ]
  },
  {
   "cell_type": "markdown",
   "metadata": {
    "tags": []
   },
   "source": [
    "## 3.1 Conduct simulation for field bare fallow"
   ]
  },
  {
   "cell_type": "code",
   "execution_count": 19,
   "metadata": {},
   "outputs": [
    {
     "data": {
      "text/html": [
       "<style>\n",
       ".list-inline {list-style: none; margin:0; padding: 0}\n",
       ".list-inline>li {display: inline-block}\n",
       ".list-inline>li:not(:last-child)::after {content: \"\\00b7\"; padding: 0 .5ex}\n",
       "</style>\n",
       "<ol class=list-inline><li>'Askov'</li><li>'Grignon'</li><li>'Rothamsted'</li><li>'Ultuna'</li><li>'Versailles'</li></ol>\n"
      ],
      "text/latex": [
       "\\begin{enumerate*}\n",
       "\\item 'Askov'\n",
       "\\item 'Grignon'\n",
       "\\item 'Rothamsted'\n",
       "\\item 'Ultuna'\n",
       "\\item 'Versailles'\n",
       "\\end{enumerate*}\n"
      ],
      "text/markdown": [
       "1. 'Askov'\n",
       "2. 'Grignon'\n",
       "3. 'Rothamsted'\n",
       "4. 'Ultuna'\n",
       "5. 'Versailles'\n",
       "\n",
       "\n"
      ],
      "text/plain": [
       "[1] \"Askov\"      \"Grignon\"    \"Rothamsted\" \"Ultuna\"     \"Versailles\""
      ]
     },
     "metadata": {},
     "output_type": "display_data"
    }
   ],
   "source": [
    "# load bare fallow data\n",
    "bfdata = read.csv(file = 'dinput/bf.fill.150y.csv')\n",
    "unique(bfdata$site)"
   ]
  },
  {
   "cell_type": "code",
   "execution_count": 20,
   "metadata": {},
   "outputs": [],
   "source": [
    "##conduct yearly-step simulation with optimized parameters\n",
    "bfdata$MIC_1 = NA\n",
    "bfdata$MIC_2 = NA\n",
    "bfdata$SOM_1 = NA\n",
    "bfdata$SOM_2 = NA\n",
    "bfdata$SOM_3 = NA\n",
    "bfdata$TSOC_pre = NA\n",
    "\n",
    "nsite = c('Askov', 'Grignon', 'Rothamsted', 'Ultuna', 'Versailles')\n",
    "\n",
    "for (i in unique(nsite))\n",
    "{ tmp = bfdata[bfdata$site == i, ]\n",
    "  # assign site-specific soil temperature and clay fraction \n",
    "  TSOI = siteinfo[siteinfo$site==i, 'mat']\n",
    "  CLAY = siteinfo[siteinfo$site==i, ]$CLAY   \n",
    "  cint   <- tmp[1, 'SOC_mgC_per_cm3']  # the initial total carbon pools \n",
    "  ibulkD = max(siteinfo[siteinfo$site==isite, 'bulkden_ini'],\n",
    "                siteinfo[siteinfo$site==isite, 'bulkden_fin'] )\n",
    "  # Assign the optimized parameter values\n",
    "  fMIC_1 = parm_opt[parm_opt$site==i, 'fMIC_1']; fMIC_2 = parm_opt[parm_opt$site==i, 'fMIC_2']\n",
    "  fSOM_1 = parm_opt[parm_opt$site==i, 'fSOM_1']; fSOM_3 = parm_opt[parm_opt$site==i, 'fSOM_3']\n",
    "  fSOM_2 =  1- fMIC_1 - fMIC_2 - fSOM_1 - fSOM_3\n",
    "  beta   = parm_opt[parm_opt$site==i, 'beta']\n",
    "  Ex = MIMICS_BF(t =  tmp$years, \n",
    "                 timestep  = 24*365, # yearly step\n",
    "                 bulkD = ibulkD,\n",
    "                 TSOI = TSOI,\n",
    "                 CLAY = CLAY,\n",
    "                 beta = beta,\n",
    "                 ival = c(MIC_1 = fMIC_1 * cint, \n",
    "                          MIC_2 = fMIC_2 * cint, \n",
    "                          SOM_1 = fSOM_1 * cint, \n",
    "                          SOM_2 = fSOM_2 * cint, \n",
    "                          SOM_3 = fSOM_3 * cint\n",
    "                          ))\n",
    "  Ct=getC(Ex)\n",
    "  bfdata[bfdata$site == i, ]$MIC_1 = Ct[,1]\n",
    "  bfdata[bfdata$site == i, ]$MIC_2 = Ct[,2]\n",
    "  bfdata[bfdata$site == i, ]$SOM_1 = Ct[,3]\n",
    "  bfdata[bfdata$site == i, ]$SOM_2 = Ct[,4]\n",
    "  bfdata[bfdata$site == i, ]$SOM_3 = Ct[,5]\n",
    "  bfdata[bfdata$site == i, ]$TSOC_pre  = rowSums(Ct)\n",
    " }"
   ]
  },
  {
   "cell_type": "code",
   "execution_count": 21,
   "metadata": {},
   "outputs": [],
   "source": [
    "bfdata$TSOC_pre_kg = bfdata$TSOC_pre / bfdata$bulkD\n",
    "write.csv(bfdata, file = paste0('output/prediction_BF_',model_name,'.csv'), row.names=F)"
   ]
  },
  {
   "cell_type": "code",
   "execution_count": 22,
   "metadata": {},
   "outputs": [
    {
     "name": "stderr",
     "output_type": "stream",
     "text": [
      "Warning message:\n",
      "\"package 'ggplot2' was built under R version 4.0.5\"\n",
      "\n",
      "Attaching package: 'ggplot2'\n",
      "\n",
      "\n",
      "The following object is masked from 'package:latticeExtra':\n",
      "\n",
      "    layer\n",
      "\n",
      "\n",
      "Warning message:\n",
      "\"Removed 674 rows containing missing values (geom_point).\"\n"
     ]
    },
    {
     "data": {
      "image/png": "[encoded data removed]",
      "text/plain": [
       "plot without title"
      ]
     },
     "metadata": {
      "image/png": {
       "height": 180,
       "width": 600
      }
     },
     "output_type": "display_data"
    }
   ],
   "source": [
    "# predicted vs observed time-series plot\n",
    "library(ggplot2)\n",
    "tmp = bfdata\n",
    "bf_scatter <- ggplot(aes(x = years , y = SOC_gC_per_kgSoil), data = tmp)+ \n",
    "  facet_grid(~ site) +\n",
    "  geom_point(size=2,shape=1,aes(col=site)) +\n",
    "  geom_line(aes(x = years, y = TSOC_pre_kg, col=site)) + \n",
    "  theme_bw() \n",
    "options(repr.plot.width = 10, repr.plot.height = 3)\n",
    "bf_scatter"
   ]
  },
  {
   "cell_type": "markdown",
   "metadata": {
    "tags": []
   },
   "source": [
    "## 3.2 Conduct simulation for incubation at the initial stage"
   ]
  },
  {
   "cell_type": "code",
   "execution_count": 23,
   "metadata": {},
   "outputs": [
    {
     "data": {
      "text/html": [
       "<style>\n",
       ".list-inline {list-style: none; margin:0; padding: 0}\n",
       ".list-inline>li {display: inline-block}\n",
       ".list-inline>li:not(:last-child)::after {content: \"\\00b7\"; padding: 0 .5ex}\n",
       "</style>\n",
       "<ol class=list-inline><li>'Askov'</li><li>'Grignon'</li><li>'Ultuna'</li><li>'Versailles'</li></ol>\n"
      ],
      "text/latex": [
       "\\begin{enumerate*}\n",
       "\\item 'Askov'\n",
       "\\item 'Grignon'\n",
       "\\item 'Ultuna'\n",
       "\\item 'Versailles'\n",
       "\\end{enumerate*}\n"
      ],
      "text/markdown": [
       "1. 'Askov'\n",
       "2. 'Grignon'\n",
       "3. 'Ultuna'\n",
       "4. 'Versailles'\n",
       "\n",
       "\n"
      ],
      "text/plain": [
       "[1] \"Askov\"      \"Grignon\"    \"Ultuna\"     \"Versailles\""
      ]
     },
     "metadata": {},
     "output_type": "display_data"
    }
   ],
   "source": [
    "# load  obsersed incubation data\n",
    "indata <- read.csv( 'dinput/bf_inc_initial_final.csv')\n",
    "indata = indata[indata$exp_type == 'initial.inc', ]\n",
    "nsite = unique(indata$site)\n",
    "nsite"
   ]
  },
  {
   "cell_type": "code",
   "execution_count": 24,
   "metadata": {},
   "outputs": [],
   "source": [
    "# model to get total carbon for incubation experiments\n",
    "source('code.proc/TSOC_4temp_MIMICSb.R')"
   ]
  },
  {
   "cell_type": "code",
   "execution_count": 25,
   "metadata": {},
   "outputs": [],
   "source": [
    "# simulation with MIMICS0\n",
    "indata$daysin = indata$date_sin\n",
    "indata$TSOC_pre = NA\n",
    "for (i in unique(indata$site)){\n",
    "   driver = indata[indata$site == i, ]\n",
    "   CLAY = siteinfo[siteinfo$site==i, ]$CLAY\n",
    "   cint = driver[1, 'SOC_mgC_per_cm3']   # the initial total carbon\n",
    "   ibulkD = max(siteinfo[siteinfo$site==i, 'bulkden_ini'],\n",
    "                 siteinfo[siteinfo$site==i, 'bulkden_fin'] )    \n",
    "   pars = as.matrix(parm_opt[parm_opt$site == i, 1:5])\n",
    "   indata[indata$site == i, ]$TSOC_pre = TSOC_4temp_MIMICS(driver, pars)\n",
    "    }"
   ]
  },
  {
   "cell_type": "code",
   "execution_count": 26,
   "metadata": {},
   "outputs": [],
   "source": [
    "indata$TSOC_pre_kg = indata$TSOC_pre / indata$bulkD\n",
    "write.csv(indata, file = paste0('output/prediction_incub_ini_',model_name,'.csv'), row.names=F)"
   ]
  },
  {
   "cell_type": "markdown",
   "metadata": {
    "tags": []
   },
   "source": [
    "### Predict individue pools for incubation at the final stage"
   ]
  },
  {
   "cell_type": "code",
   "execution_count": 27,
   "metadata": {},
   "outputs": [],
   "source": [
    "indata$MIC_1 = NA\n",
    "indata$MIC_2 = NA\n",
    "indata$SOM_1 = NA\n",
    "indata$SOM_2 = NA\n",
    "indata$SOM_3 = NA\n",
    "indata$TSOC_pre = NA\n",
    "\n",
    "nsite = c('Askov', 'Grignon', 'Ultuna', 'Versailles')\n",
    "temps = c(4, 12, 20, 35)\n",
    "parm_opt = read.csv(file = 'doutput/parameter_opt_MIMICS0.csv')\n",
    "for (i in unique(nsite))\n",
    "   {\n",
    "    # the initial total carbon  mgC per cm3 \n",
    "    adata = indata[indata$site == i, ]\n",
    "    cint = adata[1, 'SOC_mgC_per_cm3']   # the initial total carbon    \n",
    "    \n",
    "    CLAY = siteinfo[siteinfo$site==i, ]$CLAY \n",
    "    ibulkD = max(siteinfo[siteinfo$site==i, 'bulkden_ini'],\n",
    "                  siteinfo[siteinfo$site==i, 'bulkden_fin'] )\n",
    "    \n",
    "    for (j in unique(temps))\n",
    "        { tmp = adata[adata$temp == j, ]\n",
    "          # assign site-specific soil temperature and clay fraction \n",
    "          TSOI = tmp[1, 'temp']\n",
    "          timestep = 24 # daily step\n",
    "          CLAY = siteinfo[siteinfo$site==i, ]$CLAY   \n",
    "\n",
    "          # Assign the optimized parameter values\n",
    "          fMIC_1 = parm_opt[parm_opt$site==i, 'fMIC_1']; fMIC_2 = parm_opt[parm_opt$site==i, 'fMIC_2']\n",
    "          fSOM_1 = parm_opt[parm_opt$site==i, 'fSOM_1']; fSOM_3 = parm_opt[parm_opt$site==i, 'fSOM_3']\n",
    "          beta   = parm_opt[parm_opt$site==i, 'beta']\n",
    "          fSOM_2 = 1- fMIC_1 - fMIC_2 - fSOM_1 - fSOM_3\n",
    "          Ex = MIMICS_BF(t =  tmp$daysin, \n",
    "                         timestep = timestep,\n",
    "                         bulkD = ibulkD,\n",
    "                              TSOI = TSOI,\n",
    "                              CLAY = CLAY,\n",
    "                              beta = beta,\n",
    "                              ival = c(MIC_1= fMIC_1 * cint, MIC_2=fMIC_2*cint, \n",
    "                                       SOM_1= fSOM_1 * cint, SOM_2=fSOM_2*cint, SOM_3= fSOM_3*cint))\n",
    "          Ct=getC(Ex)\n",
    "          indata[indata$site ==i & indata$temp == j, ]$MIC_1 = Ct[,1]\n",
    "          indata[indata$site ==i & indata$temp == j, ]$MIC_2 = Ct[,2]\n",
    "          indata[indata$site ==i & indata$temp == j, ]$SOM_1 = Ct[,3]\n",
    "          indata[indata$site ==i & indata$temp == j, ]$SOM_2 = Ct[,4]\n",
    "          indata[indata$site ==i & indata$temp == j, ]$SOM_3 = Ct[,5]\n",
    "          indata[indata$site ==i & indata$temp == j, ]$TSOC_pre  = rowSums(Ct)\n",
    "         }\n",
    "    }"
   ]
  },
  {
   "cell_type": "code",
   "execution_count": 28,
   "metadata": {},
   "outputs": [],
   "source": [
    "indata$TSOC_pre_kg = indata$TSOC_pre / indata$bulkD\n",
    "indata[,11:15] = indata[,11:15]/indata$bulkD\n",
    "write.csv(indata, file = paste0('output/prediction_incub_initial_',model_name,'.csv'), row.names=F)"
   ]
  },
  {
   "cell_type": "markdown",
   "metadata": {
    "tags": []
   },
   "source": [
    "## 3.3 Conduct simulation for incubation at the final stage"
   ]
  },
  {
   "cell_type": "code",
   "execution_count": 29,
   "metadata": {},
   "outputs": [
    {
     "data": {
      "text/html": [
       "<style>\n",
       ".list-inline {list-style: none; margin:0; padding: 0}\n",
       ".list-inline>li {display: inline-block}\n",
       ".list-inline>li:not(:last-child)::after {content: \"\\00b7\"; padding: 0 .5ex}\n",
       "</style>\n",
       "<ol class=list-inline><li>'Askov'</li><li>'Grignon'</li><li>'Ultuna'</li><li>'Versailles'</li></ol>\n"
      ],
      "text/latex": [
       "\\begin{enumerate*}\n",
       "\\item 'Askov'\n",
       "\\item 'Grignon'\n",
       "\\item 'Ultuna'\n",
       "\\item 'Versailles'\n",
       "\\end{enumerate*}\n"
      ],
      "text/markdown": [
       "1. 'Askov'\n",
       "2. 'Grignon'\n",
       "3. 'Ultuna'\n",
       "4. 'Versailles'\n",
       "\n",
       "\n"
      ],
      "text/plain": [
       "[1] \"Askov\"      \"Grignon\"    \"Ultuna\"     \"Versailles\""
      ]
     },
     "metadata": {},
     "output_type": "display_data"
    }
   ],
   "source": [
    "# load  obsersed incubation data\n",
    "findata <- read.csv( 'dinput/bf_inc_initial_final.csv')\n",
    "findata = findata[findata$exp_type == 'final.inc', ]\n",
    "nsite = unique(findata$site)\n",
    "nsite"
   ]
  },
  {
   "cell_type": "code",
   "execution_count": 30,
   "metadata": {
    "tags": []
   },
   "outputs": [
    {
     "data": {
      "text/html": [
       "<table class=\"dataframe\">\n",
       "<caption>A data.frame: 6 × 6</caption>\n",
       "<thead>\n",
       "\t<tr><th scope=col>fMIC_1</th><th scope=col>fMIC_2</th><th scope=col>fSOM_1</th><th scope=col>fSOM_3</th><th scope=col>beta</th><th scope=col>site</th></tr>\n",
       "\t<tr><th scope=col>&lt;dbl&gt;</th><th scope=col>&lt;dbl&gt;</th><th scope=col>&lt;dbl&gt;</th><th scope=col>&lt;dbl&gt;</th><th scope=col>&lt;dbl&gt;</th><th scope=col>&lt;chr&gt;</th></tr>\n",
       "</thead>\n",
       "<tbody>\n",
       "\t<tr><td>0.004811676</td><td>0.0033750527</td><td>0.1994625</td><td>0.0868416</td><td>1.0907</td><td>Askov     </td></tr>\n",
       "\t<tr><td>0.002230793</td><td>0.0018690261</td><td>0.4041433</td><td>0.1367114</td><td>1.0776</td><td>Grignon   </td></tr>\n",
       "\t<tr><td>         NA</td><td>          NA</td><td>       NA</td><td>       NA</td><td>1.0000</td><td>Rothamsted</td></tr>\n",
       "\t<tr><td>0.001132295</td><td>0.0008706271</td><td>0.3838761</td><td>0.1646834</td><td>1.0000</td><td>Ultuna    </td></tr>\n",
       "\t<tr><td>0.001252903</td><td>0.0010085045</td><td>0.3775681</td><td>0.1213772</td><td>1.0721</td><td>Versailles</td></tr>\n",
       "\t<tr><td>         NA</td><td>          NA</td><td>       NA</td><td>       NA</td><td>1.0481</td><td>Average   </td></tr>\n",
       "</tbody>\n",
       "</table>\n"
      ],
      "text/latex": [
       "A data.frame: 6 × 6\n",
       "\\begin{tabular}{llllll}\n",
       " fMIC\\_1 & fMIC\\_2 & fSOM\\_1 & fSOM\\_3 & beta & site\\\\\n",
       " <dbl> & <dbl> & <dbl> & <dbl> & <dbl> & <chr>\\\\\n",
       "\\hline\n",
       "\t 0.004811676 & 0.0033750527 & 0.1994625 & 0.0868416 & 1.0907 & Askov     \\\\\n",
       "\t 0.002230793 & 0.0018690261 & 0.4041433 & 0.1367114 & 1.0776 & Grignon   \\\\\n",
       "\t          NA &           NA &        NA &        NA & 1.0000 & Rothamsted\\\\\n",
       "\t 0.001132295 & 0.0008706271 & 0.3838761 & 0.1646834 & 1.0000 & Ultuna    \\\\\n",
       "\t 0.001252903 & 0.0010085045 & 0.3775681 & 0.1213772 & 1.0721 & Versailles\\\\\n",
       "\t          NA &           NA &        NA &        NA & 1.0481 & Average   \\\\\n",
       "\\end{tabular}\n"
      ],
      "text/markdown": [
       "\n",
       "A data.frame: 6 × 6\n",
       "\n",
       "| fMIC_1 &lt;dbl&gt; | fMIC_2 &lt;dbl&gt; | fSOM_1 &lt;dbl&gt; | fSOM_3 &lt;dbl&gt; | beta &lt;dbl&gt; | site &lt;chr&gt; |\n",
       "|---|---|---|---|---|---|\n",
       "| 0.004811676 | 0.0033750527 | 0.1994625 | 0.0868416 | 1.0907 | Askov      |\n",
       "| 0.002230793 | 0.0018690261 | 0.4041433 | 0.1367114 | 1.0776 | Grignon    |\n",
       "|          NA |           NA |        NA |        NA | 1.0000 | Rothamsted |\n",
       "| 0.001132295 | 0.0008706271 | 0.3838761 | 0.1646834 | 1.0000 | Ultuna     |\n",
       "| 0.001252903 | 0.0010085045 | 0.3775681 | 0.1213772 | 1.0721 | Versailles |\n",
       "|          NA |           NA |        NA |        NA | 1.0481 | Average    |\n",
       "\n"
      ],
      "text/plain": [
       "  fMIC_1      fMIC_2       fSOM_1    fSOM_3    beta   site      \n",
       "1 0.004811676 0.0033750527 0.1994625 0.0868416 1.0907 Askov     \n",
       "2 0.002230793 0.0018690261 0.4041433 0.1367114 1.0776 Grignon   \n",
       "3          NA           NA        NA        NA 1.0000 Rothamsted\n",
       "4 0.001132295 0.0008706271 0.3838761 0.1646834 1.0000 Ultuna    \n",
       "5 0.001252903 0.0010085045 0.3775681 0.1213772 1.0721 Versailles\n",
       "6          NA           NA        NA        NA 1.0481 Average   "
      ]
     },
     "metadata": {},
     "output_type": "display_data"
    }
   ],
   "source": [
    "# Get initial fractions of carbon pools for the incubation \n",
    "# with final samples\n",
    "parm_opt_fin = parm_opt[,1:6]\n",
    "parm_opt_fin[,1:4]  = NA\n",
    "\n",
    "lasts = data.frame(site = unique(indata$site), \n",
    "                   years = c(26, 48, 53, 79)) \n",
    "\n",
    "for (i in unique(indata$site)){\n",
    "   # calculate \n",
    "   last = lasts[lasts$site == i,]$years\n",
    "        TSOC_fin = bfdata[bfdata$site ==i & bfdata$years == last,]\n",
    "        fMIC_1 = TSOC_fin$MIC_1/TSOC_fin$TSOC_pre\n",
    "        fMIC_2 = TSOC_fin$MIC_2/TSOC_fin$TSOC_pre\n",
    "        fSOM_1 = TSOC_fin$SOM_1/TSOC_fin$TSOC_pre\n",
    "        # fSOM_2 = TSOC_fin$SOM_2/TSOC_fin$TSOC_pre\n",
    "        fSOM_3 = TSOC_fin$SOM_3/TSOC_fin$TSOC_pre\n",
    "    \n",
    "   # deliver pars values\n",
    "   parm_opt_fin[parm_opt_fin$site ==i,1:4] = c(fMIC_1, fMIC_2, fSOM_1,  fSOM_3)\n",
    "    }\n",
    "parm_opt_fin"
   ]
  },
  {
   "cell_type": "code",
   "execution_count": 31,
   "metadata": {},
   "outputs": [],
   "source": [
    "# simulation with MIMICS0\n",
    "findata$daysin = findata$date_sin\n",
    "findata$TSOC_pre = NA\n",
    "      \n",
    "for (i in unique(indata$site)){\n",
    "  \n",
    "   driver = findata[findata$site == i, ]\n",
    "   CLAY = siteinfo[siteinfo$site==i, ]$CLAY\n",
    "   cint = driver[1, 'SOC_mgC_per_cm3']   # the initial total carbon\n",
    "   ibulkD =max(siteinfo[siteinfo$site==i, 'bulkden_ini'],\n",
    "                siteinfo[siteinfo$site==i, 'bulkden_fin'] )\n",
    "   pars = as.matrix(parm_opt_fin[parm_opt_fin$site ==i, 1:5]) \n",
    "   \n",
    "   findata[findata$site == i, ]$TSOC_pre = TSOC_4temp_MIMICS(driver, pars)\n",
    "    }  "
   ]
  },
  {
   "cell_type": "code",
   "execution_count": 32,
   "metadata": {},
   "outputs": [],
   "source": [
    "findata$TSOC_pre_kg = findata$TSOC_pre / findata$bulkD\n",
    "write.csv(findata, file = paste0('output/prediction_incub_fin_',model_name,'.csv'), row.names=F)"
   ]
  },
  {
   "cell_type": "markdown",
   "metadata": {},
   "source": [
    "The result above contain only total SOC, lacking individual pool sizes"
   ]
  },
  {
   "cell_type": "markdown",
   "metadata": {
    "tags": []
   },
   "source": [
    "### Predict individue pools for incubation at the final stage"
   ]
  },
  {
   "cell_type": "code",
   "execution_count": 33,
   "metadata": {},
   "outputs": [],
   "source": [
    "findata$MIC_1 = NA\n",
    "findata$MIC_2 = NA\n",
    "findata$SOM_1 = NA\n",
    "findata$SOM_2 = NA\n",
    "findata$SOM_3 = NA\n",
    "findata$TSOC_pre = NA\n",
    "\n",
    "nsite = c('Askov', 'Grignon', 'Ultuna', 'Versailles')\n",
    "temps = c(4, 12, 20, 35)\n",
    "\n",
    "for (i in unique(nsite))\n",
    "   {\n",
    "    # the initial total carbon  mgC per cm3 \n",
    "    adata = findata[findata$site == i, ]\n",
    "    cint = adata[1, 'SOC_mgC_per_cm3']   # the initial total carbon    \n",
    "    \n",
    "    CLAY = siteinfo[siteinfo$site==i, ]$CLAY \n",
    "    ibulkD =max(siteinfo[siteinfo$site==i, 'bulkden_ini'],\n",
    "                siteinfo[siteinfo$site==i, 'bulkden_fin'] )\n",
    "    \n",
    "    for (j in unique(temps))\n",
    "        { tmp = adata[adata$temp == j, ]\n",
    "          # assign site-specific soil temperature and clay fraction \n",
    "          TSOI = tmp[1, 'temp']\n",
    "          timestep = 24 # daily step\n",
    "          CLAY = siteinfo[siteinfo$site==i, ]$CLAY   \n",
    "\n",
    "          # Assign the optimized parameter values\n",
    "          parm_opt = parm_opt_fin\n",
    "          fMIC_1 = parm_opt[parm_opt$site==i, 'fMIC_1']; fMIC_2 = parm_opt[parm_opt$site==i, 'fMIC_2']\n",
    "          fSOM_1 = parm_opt[parm_opt$site==i, 'fSOM_1']; fSOM_3 = parm_opt[parm_opt$site==i, 'fSOM_3']\n",
    "          beta   = parm_opt[parm_opt$site==i, 'beta']\n",
    "          fSOM_2 = 1- fMIC_1 - fMIC_2 - fSOM_1 - fSOM_3\n",
    "          Ex = MIMICS_BF(t =  tmp$daysin, \n",
    "                         timestep = timestep,\n",
    "                         bulkD = ibulkD,\n",
    "                              TSOI = TSOI,\n",
    "                              CLAY = CLAY,\n",
    "                              beta = beta,\n",
    "                              ival = c(MIC_1= fMIC_1 * cint, MIC_2=fMIC_2*cint, \n",
    "                                       SOM_1= fSOM_1 * cint, SOM_2=fSOM_2*cint, SOM_3= fSOM_3*cint))\n",
    "          Ct=getC(Ex)\n",
    "          findata[findata$site ==i & findata$temp == j, ]$MIC_1 = Ct[,1]\n",
    "          findata[findata$site ==i & findata$temp == j, ]$MIC_2 = Ct[,2]\n",
    "          findata[findata$site ==i & findata$temp == j, ]$SOM_1 = Ct[,3]\n",
    "          findata[findata$site ==i & findata$temp == j, ]$SOM_2 = Ct[,4]\n",
    "          findata[findata$site ==i & findata$temp == j, ]$SOM_3 = Ct[,5]\n",
    "          findata[findata$site ==i & findata$temp == j, ]$TSOC_pre  = rowSums(Ct)\n",
    "         }\n",
    "    }"
   ]
  },
  {
   "cell_type": "code",
   "execution_count": 34,
   "metadata": {},
   "outputs": [],
   "source": [
    "findata$TSOC_pre_kg = findata$TSOC_pre / findata$bulkD\n",
    "findata[,11:15] = findata[,11:15]/findata$bulkD\n",
    "write.csv(findata, file = paste0('output/prediction_incub_final_',model_name,'.csv'), row.names=F)"
   ]
  },
  {
   "cell_type": "code",
   "execution_count": null,
   "metadata": {},
   "outputs": [],
   "source": []
  }
 ],
 "metadata": {
  "kernelspec": {
   "display_name": "R",
   "language": "R",
   "name": "ir"
  },
  "language_info": {
   "codemirror_mode": "r",
   "file_extension": ".r",
   "mimetype": "text/x-r-source",
   "name": "R",
   "pygments_lexer": "r",
   "version": "4.0.3"
  }
 },
 "nbformat": 4,
 "nbformat_minor": 4
}
