{
 "cells": [
  {
   "cell_type": "markdown",
   "metadata": {
    "tags": []
   },
   "source": [
    "# Figure 4. Timeseries of Microbial biomass and fluxes of desorption/adsorption"
   ]
  },
  {
   "cell_type": "markdown",
   "metadata": {},
   "source": [
    "Fig. 4. The changes of total SOC remaining during long-term bare fallow simulated by MIMICSa and MIMICSb (panel a). The observations are labeled as points. The unit of measure for root mean square error (RMSE) is g C kg-1 soil. Simulated temporal dynamics of carbon pools (panel b) and fractions of carbon pools in total SOC at the initial vs. final bare fallow stages (panel c) during the long-term bare fallow experiments at field condition for five selected sites.\n",
    "Figure note: MBr, MBK, CAvl, CPhs, and CChm are r-type microbial biomass, K-type microbial biomass, available carbon, physically-protected carbon, and chemically-recalcitrant carbon, respectively.\n"
   ]
  },
  {
   "cell_type": "code",
   "execution_count": 1,
   "metadata": {},
   "outputs": [
    {
     "name": "stderr",
     "output_type": "stream",
     "text": [
      "Warning message:\n",
      "\"package 'reshape2' was built under R version 4.0.5\"\n",
      "Warning message:\n",
      "\"package 'data.table' was built under R version 4.0.5\"\n",
      "\n",
      "Attaching package: 'data.table'\n",
      "\n",
      "\n",
      "The following objects are masked from 'package:reshape2':\n",
      "\n",
      "    dcast, melt\n",
      "\n",
      "\n"
     ]
    }
   ],
   "source": [
    "library(reshape2)\n",
    "library(ggplot2)\n",
    "library(data.table)"
   ]
  },
  {
   "cell_type": "markdown",
   "metadata": {
    "tags": []
   },
   "source": [
    "## Data prepare"
   ]
  },
  {
   "cell_type": "code",
   "execution_count": 2,
   "metadata": {},
   "outputs": [],
   "source": [
    "# data prepare\n",
    "# load SOC predicted by MIMICS \n",
    "model_name = 'MIMICSa'\n",
    "bf_mimics0 = read.csv(file= paste0('../output/prediction_BF_',model_name,'.csv'))\n",
    "model_name = 'MIMICSb'\n",
    "bf_mimics1 = read.csv(file= paste0('../output/prediction_BF_',model_name,'.csv'))\n",
    "model_name = 'MIMICSc'\n",
    "bf_mimics2 = read.csv(file= paste0('../output/prediction_BF_',model_name,'.csv'))"
   ]
  },
  {
   "cell_type": "code",
   "execution_count": 3,
   "metadata": {},
   "outputs": [],
   "source": [
    "b_mi0 = subset(bf_mimics0, select=c('site', 'years', 'MIC_1', 'MIC_2', 'SOM_1', 'SOM_2', 'SOM_3', 'bulkD' ))\n",
    "b_mi0$model_type = 'MIMICSa'\n",
    "\n",
    "b_mi1 = subset(bf_mimics1, select=c('site', 'years', 'MIC_1', 'MIC_2', 'SOM_1', 'SOM_2', 'SOM_3', 'bulkD' ))\n",
    "b_mi1$model_type = 'MIMICSb'\n",
    "\n",
    "b_mi2 = subset(bf_mimics2, select=c('site', 'years', 'MIC_1', 'MIC_2', 'SOM_1', 'SOM_2', 'SOM_3', 'bulkD' ))\n",
    "b_mi2$model_type = 'MIMICSc'\n",
    "\n",
    "bfdata = rbind(b_mi0, b_mi1, b_mi2)"
   ]
  },
  {
   "cell_type": "code",
   "execution_count": 4,
   "metadata": {},
   "outputs": [],
   "source": [
    "# Convert the unit of carbon by dividing bulk Density\n",
    "# unit of individual C pools in input data are mg C per cm3\n",
    "bfdata$MBr = bfdata$MIC_1/bfdata$bulkD\n",
    "bfdata$MBK = bfdata$MIC_2/bfdata$bulkD\n",
    "bfdata$Cphs = bfdata$SOM_1/bfdata$bulkD\n",
    "bfdata$Cchm = bfdata$SOM_2/bfdata$bulkD\n",
    "bfdata$Cavl = bfdata$SOM_3/bfdata$bulkD"
   ]
  },
  {
   "cell_type": "code",
   "execution_count": 5,
   "metadata": {},
   "outputs": [],
   "source": [
    "# combine data\n",
    "bfdata = subset(bfdata, select = c('site', 'years', \n",
    "                                   'MBr', 'MBK', \n",
    "                                   'Cavl', 'Cchm', 'Cphs',  'model_type'))\n",
    "bfdata = bfdata[bfdata$years<=100, ]\n",
    "# data prepare done"
   ]
  },
  {
   "cell_type": "markdown",
   "metadata": {},
   "source": [
    "## plot timeseries of Cavl\n"
   ]
  },
  {
   "cell_type": "code",
   "execution_count": 6,
   "metadata": {},
   "outputs": [],
   "source": [
    "\n",
    "theme_set(\n",
    "  theme_bw() +\n",
    "  theme(#panel.grid.major = element_blank(),\n",
    "        panel.grid.minor = element_blank(),\n",
    "        legend.position = \"bottom\",\n",
    "        legend.text = element_text(size = 13), \n",
    "        legend.title = element_blank(),\n",
    "        strip.text = element_text(size = 13, face = \"bold\"), \n",
    "        axis.text.x = element_text(size = 13, angle = 45, hjust=1),\n",
    "        axis.text.y = element_text(size = 13),\n",
    "        axis.title=element_text(size=13))\n",
    "       )         "
   ]
  },
  {
   "cell_type": "code",
   "execution_count": 7,
   "metadata": {},
   "outputs": [
    {
     "data": {
      "image/png": "[encoded data removed]",
      "text/plain": [
       "plot without title"
      ]
     },
     "metadata": {
      "image/png": {
       "height": 420,
       "width": 420
      }
     },
     "output_type": "display_data"
    }
   ],
   "source": [
    "# area plot of carbon component\n",
    " ggplot(data=bfdata)+\n",
    "             geom_line(aes(x=years, y= Cavl)) +\n",
    "             facet_grid(site ~ model_type) +\n",
    "             ylab(expression(paste('Available C (gC kg'^'-1',' Soil)')))  +\n",
    "             expand_limits(y=c(NA, 6.2))"
   ]
  },
  {
   "cell_type": "code",
   "execution_count": 10,
   "metadata": {},
   "outputs": [],
   "source": [
    "ggsave(\"output/Fig.S5_Avail_C.jpg\", width = 6, height = 8,  dpi=600)"
   ]
  },
  {
   "cell_type": "code",
   "execution_count": 8,
   "metadata": {},
   "outputs": [
    {
     "name": "stderr",
     "output_type": "stream",
     "text": [
      "Warning message in melt(bfdata, id = c(\"site\", \"years\", \"model_type\")):\n",
      "\"The melt generic in data.table has been passed a data.frame and will attempt to redirect to the relevant reshape2 method; please note that reshape2 is deprecated, and this redirection is now deprecated as well. To continue using melt methods from reshape2 while both libraries are attached, e.g. melt.list, you can prepend the namespace like reshape2::melt(bfdata). In the next version, this warning will become an error.\"\n"
     ]
    },
    {
     "data": {
      "text/html": [
       "<style>\n",
       ".list-inline {list-style: none; margin:0; padding: 0}\n",
       ".list-inline>li {display: inline-block}\n",
       ".list-inline>li:not(:last-child)::after {content: \"\\00b7\"; padding: 0 .5ex}\n",
       "</style>\n",
       "<ol class=list-inline><li>MBr</li><li>MBK</li><li>Cavl</li><li>Cchm</li><li>Cphs</li></ol>\n",
       "\n",
       "<details>\n",
       "\t<summary style=display:list-item;cursor:pointer>\n",
       "\t\t<strong>Levels</strong>:\n",
       "\t</summary>\n",
       "\t<style>\n",
       "\t.list-inline {list-style: none; margin:0; padding: 0}\n",
       "\t.list-inline>li {display: inline-block}\n",
       "\t.list-inline>li:not(:last-child)::after {content: \"\\00b7\"; padding: 0 .5ex}\n",
       "\t</style>\n",
       "\t<ol class=list-inline><li>'MBr'</li><li>'MBK'</li><li>'Cavl'</li><li>'Cchm'</li><li>'Cphs'</li></ol>\n",
       "</details>"
      ],
      "text/latex": [
       "\\begin{enumerate*}\n",
       "\\item MBr\n",
       "\\item MBK\n",
       "\\item Cavl\n",
       "\\item Cchm\n",
       "\\item Cphs\n",
       "\\end{enumerate*}\n",
       "\n",
       "\\emph{Levels}: \\begin{enumerate*}\n",
       "\\item 'MBr'\n",
       "\\item 'MBK'\n",
       "\\item 'Cavl'\n",
       "\\item 'Cchm'\n",
       "\\item 'Cphs'\n",
       "\\end{enumerate*}\n"
      ],
      "text/markdown": [
       "1. MBr\n",
       "2. MBK\n",
       "3. Cavl\n",
       "4. Cchm\n",
       "5. Cphs\n",
       "\n",
       "\n",
       "\n",
       "**Levels**: 1. 'MBr'\n",
       "2. 'MBK'\n",
       "3. 'Cavl'\n",
       "4. 'Cchm'\n",
       "5. 'Cphs'\n",
       "\n",
       "\n"
      ],
      "text/plain": [
       "[1] MBr  MBK  Cavl Cchm Cphs\n",
       "Levels: MBr MBK Cavl Cchm Cphs"
      ]
     },
     "metadata": {},
     "output_type": "display_data"
    }
   ],
   "source": [
    "pre.pool <- melt(bfdata,id=c('site', 'years','model_type'))\n",
    "colnames(pre.pool)= c('site',  'years', 'model_type', 'Pool', 'pool_size')\n",
    "# head(pre.pool)\n",
    "unique(pre.pool$Pool)"
   ]
  },
  {
   "cell_type": "markdown",
   "metadata": {},
   "source": [
    "# Panel b:  Area plot of microbial pool"
   ]
  },
  {
   "cell_type": "code",
   "execution_count": 9,
   "metadata": {},
   "outputs": [],
   "source": [
    "col_pools = c( 'blue','red', # MBr MBK\n",
    "               '#fe0000', '#e5ab01',   '#808080' )    #  Cavail,  Cchem,  Cphys \n",
    "\n",
    "legend_labs = c(\n",
    "                expression(~italic(MB)[r]), \n",
    "                expression(~italic(MB)[K]),    \n",
    "                expression(~italic(C)[Avl]),\n",
    "                expression(~italic(C)[Chm]),    \n",
    "                expression(~italic(C)[Phs]))"
   ]
  },
  {
   "cell_type": "code",
   "execution_count": 10,
   "metadata": {},
   "outputs": [],
   "source": [
    "pre.pool$Pool = factor(pre.pool$Pool, level = c(\n",
    "                                            'MBr', 'MBK', 'Cavl',  'Cchm', 'Cphs'))\n",
    "pre.pool = pre.pool[pre.pool$years<=100, ]"
   ]
  },
  {
   "cell_type": "markdown",
   "metadata": {
    "tags": []
   },
   "source": [
    "### Plot timeseries of Microbial biomasses"
   ]
  },
  {
   "cell_type": "code",
   "execution_count": 11,
   "metadata": {},
   "outputs": [],
   "source": [
    "# area plot of carbon component\n",
    "p_MicBiom  <- ggplot(pre.pool[pre.pool$Pool == 'MBr' | pre.pool$Pool == 'MBK',],\n",
    "                    aes(x=years, y= pool_size))+\n",
    "             geom_area(aes(fill= Pool)) +\n",
    "             facet_grid(site ~ model_type) + \n",
    "             ylab(expression(paste('Concentration of carbon pools (gC kg'^'-1',' Soil)'))) +\n",
    "             xlab('Time under bare fallow (years)') +\n",
    "             scale_fill_manual(values=col_pools[1:2],\n",
    "                               labels= legend_labs[1:2]) "
   ]
  },
  {
   "cell_type": "code",
   "execution_count": 49,
   "metadata": {},
   "outputs": [
    {
     "data": {
      "image/png": "[encoded data removed]",
      "text/plain": [
       "plot without title"
      ]
     },
     "metadata": {
      "image/png": {
       "height": 600,
       "width": 360
      }
     },
     "output_type": "display_data"
    }
   ],
   "source": [
    "p_MicBiom\n",
    "ggsave(\"Fig.4-b.eps\", width = 6, height = 8,  dpi=600)"
   ]
  },
  {
   "cell_type": "markdown",
   "metadata": {},
   "source": [
    "# Panel a: Plot the desorption and asorption fluxes"
   ]
  },
  {
   "cell_type": "code",
   "execution_count": 12,
   "metadata": {},
   "outputs": [],
   "source": [
    "# site info (temperature etc)\n",
    "siteinfo <- read.csv('../dinput/site5info.csv')"
   ]
  },
  {
   "cell_type": "markdown",
   "metadata": {
    "tags": []
   },
   "source": [
    "### MIMICSa"
   ]
  },
  {
   "cell_type": "markdown",
   "metadata": {},
   "source": [
    "The mineral desorption fluxes (i.e. the flux from C_phs to C_avl) in MIMICS0 and MIMICS1 are described as:\n",
    "F_des = k_des*C_phs                                                                                       "
   ]
  },
  {
   "cell_type": "markdown",
   "metadata": {},
   "source": [
    "In MIMICSa, Cphs is formed by direct adsorption of a proportion of microbial residues:\n",
    "F_ads=f_[r]^phs  × T_(MB[r]) + f_[K]^phs × T_(MB[K])"
   ]
  },
  {
   "cell_type": "code",
   "execution_count": 13,
   "metadata": {},
   "outputs": [],
   "source": [
    "# desorption flux function for MIMICS0\n",
    "# Unit of output F_des is gC per kg Soil per year\n",
    "F_des = function(t,\n",
    "                 timestep=24*365, #yearly\n",
    "                 bulkD,           #  g per cm3\n",
    "                 CLAY = 17,\n",
    "                 LIG  = 18.73,\n",
    "                 CN   = 74.27,\n",
    "                 Cphs             # unit gC per cm3\n",
    "                 )\n",
    "    { fCLAY     = CLAY/100                   # clay content, convert from clay fraction to %\n",
    "      # desorb\n",
    "      desorb    = 1.5e-5 * exp(-1.5*(fCLAY))    # unit per hour  #CHANGED FOR GLOBAL RUN!!!  \n",
    "      Fdes      = desorb* timestep * Cphs       # unit gC per cm3 Soil per year\n",
    "      Fdes      = Fdes/bulkD}                   # gC per kg Soil per year"
   ]
  },
  {
   "cell_type": "code",
   "execution_count": 14,
   "metadata": {},
   "outputs": [],
   "source": [
    "# Adsorption flux function for MIMICS0 \n",
    "F_ads = function(\n",
    "                 timestep,\n",
    "                 bulkD,\n",
    "                 CLAY = 17,\n",
    "                 LIG  = 18.73,\n",
    "                 CN   = 74.27,\n",
    "                 beta,\n",
    "                 MBr,\n",
    "                 MBK\n",
    "                 )\n",
    "    { fCLAY     = CLAY/100                   # clay content, convert from clay fraction to %\n",
    "      calCN     = (1 / CN) / 2.5 * 100 \n",
    "      fMET      = 0.85 - 0.013 * LIG /calCN            #as calculated in DAYCENT   \n",
    "      fPHYS     = c(0.3 * exp(1.3*fCLAY), 0.2 * exp(0.8*fCLAY))   #fraction to SOMp\n",
    "      Tao_MOD   = 1\n",
    "      tao       = c(5.2e-4*exp(0.3*fMET), 2.4e-4*exp(0.1*fMET))* Tao_MOD * timestep  # microbial biomass turover rates of r and K types \n",
    "      \n",
    "      Fads      = MBr^beta * tao[1] * fPHYS[1] +  MBK^beta * tao[2] * fPHYS[2]\n",
    "      Fads      = Fads/bulkD}"
   ]
  },
  {
   "cell_type": "code",
   "execution_count": 15,
   "metadata": {},
   "outputs": [],
   "source": [
    "## Load data\n",
    "bfdata = bf_mimics0\n",
    "# load model\n",
    "model_name = 'MIMICSa'\n",
    "source(paste0('../code.proc/',model_name,'.R'))"
   ]
  },
  {
   "cell_type": "code",
   "execution_count": 16,
   "metadata": {},
   "outputs": [],
   "source": [
    "# load optimized parameters\n",
    "parm_opt = read.csv(file = paste0('../output/parameter_opt_', model_name,'.csv'))"
   ]
  },
  {
   "cell_type": "markdown",
   "metadata": {},
   "source": [
    "### Calculate Desorption fluxes"
   ]
  },
  {
   "cell_type": "code",
   "execution_count": 17,
   "metadata": {},
   "outputs": [],
   "source": [
    "nsite = c('Askov',  'Grignon', 'Rothamsted', 'Ultuna', 'Versailles')\n",
    "\n",
    "bfdata$Fdes = NA\n",
    "\n",
    "for (i in unique(nsite))\n",
    "{ tmp = bfdata[bfdata$site == i, ]\n",
    "  # assign site-specific soil temperature and clay fraction \n",
    "  TSOI = siteinfo[siteinfo$site==i, 'mat']\n",
    "  CLAY = siteinfo[siteinfo$site==i, ]$CLAY   \n",
    "  ibulkD = max(siteinfo[siteinfo$site==i, 'bulkden_ini'],\n",
    "                siteinfo[siteinfo$site==i, 'bulkden_fin'] )\n",
    "  bfdata[bfdata$site == i, 'Fdes'] = F_des(t = tmp$years,\n",
    "                 timestep=24*365, #yearly\n",
    "                 bulkD = ibulkD,\n",
    "                 CLAY = CLAY,\n",
    "                 LIG  = 18.73,\n",
    "                 CN   = 74.27,\n",
    "                 Cphs = bfdata[bfdata$site == i, 'SOM_1']\n",
    "                 )\n",
    " }"
   ]
  },
  {
   "cell_type": "code",
   "execution_count": 18,
   "metadata": {},
   "outputs": [
    {
     "data": {
      "text/plain": [
       "     Min.   1st Qu.    Median      Mean   3rd Qu.      Max. \n",
       "0.0001223 0.0042519 0.0152877 0.0476838 0.0666231 0.3948831 "
      ]
     },
     "metadata": {},
     "output_type": "display_data"
    }
   ],
   "source": [
    "summary(bfdata$Fdes)"
   ]
  },
  {
   "cell_type": "markdown",
   "metadata": {},
   "source": [
    "### Calculate Adsorption fluxes"
   ]
  },
  {
   "cell_type": "code",
   "execution_count": 19,
   "metadata": {},
   "outputs": [],
   "source": [
    "bfdata$Fads = NA\n",
    "\n",
    "for (i in unique(nsite))\n",
    "{ tmp = bfdata[bfdata$site == i, ]\n",
    "  # assign site-specific soil temperature and clay fraction \n",
    "  TSOI = siteinfo[siteinfo$site==i, 'mat']\n",
    "  CLAY = siteinfo[siteinfo$site==i, ]$CLAY     \n",
    "  beta  = parm_opt[parm_opt$site==i, 'beta']\n",
    "  ibulkD = max(siteinfo[siteinfo$site==i, 'bulkden_ini'],\n",
    "                siteinfo[siteinfo$site==i, 'bulkden_fin'] )  \n",
    "  bfdata[bfdata$site == i, 'Fads'] = F_ads(\n",
    "                 timestep = 24 * 365,\n",
    "                 bulkD = ibulkD,\n",
    "                 CLAY = CLAY,\n",
    "                 LIG  = 18.73,\n",
    "                 CN   = 74.27,\n",
    "                 beta = 1.1, #beta,\n",
    "                 MBr  = bfdata[bfdata$site == i, 'MIC_1'],\n",
    "                 MBK  = bfdata[bfdata$site == i, 'MIC_2'])\n",
    " }"
   ]
  },
  {
   "cell_type": "code",
   "execution_count": 20,
   "metadata": {
    "scrolled": true
   },
   "outputs": [
    {
     "name": "stderr",
     "output_type": "stream",
     "text": [
      "Warning message in melt(pdata1, id = c(\"site\", \"years\")):\n",
      "\"The melt generic in data.table has been passed a data.frame and will attempt to redirect to the relevant reshape2 method; please note that reshape2 is deprecated, and this redirection is now deprecated as well. To continue using melt methods from reshape2 while both libraries are attached, e.g. melt.list, you can prepend the namespace like reshape2::melt(pdata1). In the next version, this warning will become an error.\"\n"
     ]
    }
   ],
   "source": [
    "# Get ads and desorption fluxes for MIMICS0\n",
    "pdata1 = subset(bfdata, select = c(site, years, Fdes, Fads))\n",
    "pdata1 = melt(pdata1, id = c('site', 'years'))\n",
    "colnames(pdata1) = c('site', 'years', 'Flux', 'value')\n",
    "pdata1$model_type = 'MIMICSa'\n",
    "# head(pdata1)"
   ]
  },
  {
   "cell_type": "markdown",
   "metadata": {},
   "source": [
    "### MIMICSb"
   ]
  },
  {
   "cell_type": "markdown",
   "metadata": {},
   "source": [
    "In MIMICS1, Cphs is formed by direct adsorption of available carbon (F_(avl→phs)) rather than by direct adsorption of microbial residues:\n",
    "F_ads = k_ads × C_avl × (1-C_phs/Q_max )                                                                 "
   ]
  },
  {
   "cell_type": "code",
   "execution_count": 21,
   "metadata": {},
   "outputs": [],
   "source": [
    "# desorption flux function for MIMICS1\n",
    "F_des = function(t,\n",
    "                 timestep=24, #daily\n",
    "                 bulkD,\n",
    "                 CLAY,\n",
    "                 LIG  = 18.73,\n",
    "                 CN   = 74.27,\n",
    "                 Cphs\n",
    "                 )\n",
    "    { fCLAY     = CLAY/100                   # clay content, convert from clay fraction to %\n",
    "      # desorb\n",
    "      desorb    = 1.5e-5 * exp(-1.5*(fCLAY))    # hourly  #CHANGED FOR GLOBAL RUN!!!  \n",
    "      Fdes      = desorb* timestep * Cphs \n",
    "      Fdes      = Fdes/bulkD}"
   ]
  },
  {
   "cell_type": "code",
   "execution_count": 22,
   "metadata": {},
   "outputs": [],
   "source": [
    "# Adsorption flux function for MIMICS1\n",
    "F_ads = function(\n",
    "                 timestep,\n",
    "                 bulkD,\n",
    "                 CLAY,\n",
    "                 Cavl,\n",
    "                 Cphs\n",
    "                 )\n",
    "    { fCLAY     = CLAY/100                      # clay content, convert from clay fraction to %\n",
    "      desorb    = 1.5e-5 * exp(-1.5*(fCLAY))    # hourly  #CHANGED FOR GLOBAL RUN!!!  \n",
    "      kads      = 6 * desorb * timestep\n",
    "      Qmax      = bulkD * 10^(0.297 * log10(CLAY) + 3.335 )/1000    \n",
    "      Fads      = kads * Cavl * (1- Cphs/Qmax ) \n",
    "      Fads      = Fads/ bulkD \n",
    "   }  "
   ]
  },
  {
   "cell_type": "code",
   "execution_count": 23,
   "metadata": {},
   "outputs": [],
   "source": [
    "## Load data\n",
    "bfdata = bf_mimics1"
   ]
  },
  {
   "cell_type": "code",
   "execution_count": 24,
   "metadata": {},
   "outputs": [],
   "source": [
    "# load model\n",
    "model_name = 'MIMICSb'\n",
    "source(paste0('../code.proc/', model_name, '.R'))"
   ]
  },
  {
   "cell_type": "code",
   "execution_count": 25,
   "metadata": {},
   "outputs": [],
   "source": [
    "# load optimized parameters\n",
    "parm_opt = read.csv(file = paste0('../output/parameter_opt_', model_name,'.csv'))"
   ]
  },
  {
   "cell_type": "markdown",
   "metadata": {},
   "source": [
    "### Calculate Desorption fluxes"
   ]
  },
  {
   "cell_type": "code",
   "execution_count": 26,
   "metadata": {},
   "outputs": [],
   "source": [
    "bfdata$Fdes = NA\n",
    "\n",
    "for (i in unique(nsite))\n",
    "{ tmp = bfdata[bfdata$site == i, ]\n",
    "  # assign site-specific soil temperature and clay fraction \n",
    "  TSOI = siteinfo[siteinfo$site==i, 'mat']\n",
    "  CLAY = siteinfo[siteinfo$site==i, ]$CLAY   \n",
    "\n",
    "  bfdata[bfdata$site == i, 'Fdes'] = F_des(t = tmp$days,\n",
    "                 timestep=24 * 365, #yearly\n",
    "                 bulkD = bfdata[bfdata$site == i, 'bulkD'],\n",
    "                 CLAY = CLAY,\n",
    "                 LIG  = 18.73,\n",
    "                 CN   = 74.27,\n",
    "                 Cphs = bfdata[bfdata$site == i, 'SOM_1']\n",
    "                 )\n",
    " }"
   ]
  },
  {
   "cell_type": "code",
   "execution_count": 27,
   "metadata": {},
   "outputs": [
    {
     "data": {
      "text/plain": [
       "   Min. 1st Qu.  Median    Mean 3rd Qu.    Max. \n",
       " 0.2319  0.2605  0.2876  0.2893  0.3053  0.4429 "
      ]
     },
     "metadata": {},
     "output_type": "display_data"
    }
   ],
   "source": [
    "summary(bfdata$Fdes)"
   ]
  },
  {
   "cell_type": "markdown",
   "metadata": {},
   "source": [
    "### Calculate Adsorption fluxes"
   ]
  },
  {
   "cell_type": "code",
   "execution_count": 28,
   "metadata": {},
   "outputs": [],
   "source": [
    "bfdata$Fads = NA\n",
    "\n",
    "for (i in unique(nsite))\n",
    "{ tmp = bfdata[bfdata$site == i, ]\n",
    "  # assign site-specific soil temperature and clay fraction \n",
    "  CLAY = siteinfo[siteinfo$site==i, ]$CLAY     \n",
    "\n",
    "  bfdata[bfdata$site == i, 'Fads'] = F_ads(\n",
    "                 timestep = 24*365,\n",
    "                 bulkD = bfdata[bfdata$site == i, 'bulkD'],\n",
    "                 CLAY = CLAY,\n",
    "                 Cavl  = bfdata[bfdata$site == i, 'SOM_3'],\n",
    "                 Cphs  = bfdata[bfdata$site == i, 'SOM_1'])\n",
    " }"
   ]
  },
  {
   "cell_type": "code",
   "execution_count": 29,
   "metadata": {},
   "outputs": [
    {
     "data": {
      "text/plain": [
       "   Min. 1st Qu.  Median    Mean 3rd Qu.    Max. \n",
       "0.03041 0.23859 0.26032 0.26136 0.28795 0.60376 "
      ]
     },
     "metadata": {},
     "output_type": "display_data"
    }
   ],
   "source": [
    "summary(bfdata$Fads)"
   ]
  },
  {
   "cell_type": "code",
   "execution_count": 30,
   "metadata": {
    "scrolled": true
   },
   "outputs": [
    {
     "name": "stderr",
     "output_type": "stream",
     "text": [
      "Warning message in melt(pdata2, id = c(\"site\", \"years\")):\n",
      "\"The melt generic in data.table has been passed a data.frame and will attempt to redirect to the relevant reshape2 method; please note that reshape2 is deprecated, and this redirection is now deprecated as well. To continue using melt methods from reshape2 while both libraries are attached, e.g. melt.list, you can prepend the namespace like reshape2::melt(pdata2). In the next version, this warning will become an error.\"\n"
     ]
    },
    {
     "data": {
      "text/html": [
       "<table class=\"dataframe\">\n",
       "<caption>A data.frame: 6 × 5</caption>\n",
       "<thead>\n",
       "\t<tr><th></th><th scope=col>site</th><th scope=col>years</th><th scope=col>Flux</th><th scope=col>value</th><th scope=col>model_type</th></tr>\n",
       "\t<tr><th></th><th scope=col>&lt;chr&gt;</th><th scope=col>&lt;int&gt;</th><th scope=col>&lt;fct&gt;</th><th scope=col>&lt;dbl&gt;</th><th scope=col>&lt;chr&gt;</th></tr>\n",
       "</thead>\n",
       "<tbody>\n",
       "\t<tr><th scope=row>1</th><td>Askov</td><td>0</td><td>Fdes</td><td>0.3468631</td><td>MIMICSb</td></tr>\n",
       "\t<tr><th scope=row>2</th><td>Askov</td><td>1</td><td>Fdes</td><td>0.3193748</td><td>MIMICSb</td></tr>\n",
       "\t<tr><th scope=row>3</th><td>Askov</td><td>2</td><td>Fdes</td><td>0.3034246</td><td>MIMICSb</td></tr>\n",
       "\t<tr><th scope=row>4</th><td>Askov</td><td>3</td><td>Fdes</td><td>0.2941484</td><td>MIMICSb</td></tr>\n",
       "\t<tr><th scope=row>5</th><td>Askov</td><td>4</td><td>Fdes</td><td>0.2887217</td><td>MIMICSb</td></tr>\n",
       "\t<tr><th scope=row>6</th><td>Askov</td><td>5</td><td>Fdes</td><td>0.2853509</td><td>MIMICSb</td></tr>\n",
       "</tbody>\n",
       "</table>\n"
      ],
      "text/latex": [
       "A data.frame: 6 × 5\n",
       "\\begin{tabular}{r|lllll}\n",
       "  & site & years & Flux & value & model\\_type\\\\\n",
       "  & <chr> & <int> & <fct> & <dbl> & <chr>\\\\\n",
       "\\hline\n",
       "\t1 & Askov & 0 & Fdes & 0.3468631 & MIMICSb\\\\\n",
       "\t2 & Askov & 1 & Fdes & 0.3193748 & MIMICSb\\\\\n",
       "\t3 & Askov & 2 & Fdes & 0.3034246 & MIMICSb\\\\\n",
       "\t4 & Askov & 3 & Fdes & 0.2941484 & MIMICSb\\\\\n",
       "\t5 & Askov & 4 & Fdes & 0.2887217 & MIMICSb\\\\\n",
       "\t6 & Askov & 5 & Fdes & 0.2853509 & MIMICSb\\\\\n",
       "\\end{tabular}\n"
      ],
      "text/markdown": [
       "\n",
       "A data.frame: 6 × 5\n",
       "\n",
       "| <!--/--> | site &lt;chr&gt; | years &lt;int&gt; | Flux &lt;fct&gt; | value &lt;dbl&gt; | model_type &lt;chr&gt; |\n",
       "|---|---|---|---|---|---|\n",
       "| 1 | Askov | 0 | Fdes | 0.3468631 | MIMICSb |\n",
       "| 2 | Askov | 1 | Fdes | 0.3193748 | MIMICSb |\n",
       "| 3 | Askov | 2 | Fdes | 0.3034246 | MIMICSb |\n",
       "| 4 | Askov | 3 | Fdes | 0.2941484 | MIMICSb |\n",
       "| 5 | Askov | 4 | Fdes | 0.2887217 | MIMICSb |\n",
       "| 6 | Askov | 5 | Fdes | 0.2853509 | MIMICSb |\n",
       "\n"
      ],
      "text/plain": [
       "  site  years Flux value     model_type\n",
       "1 Askov 0     Fdes 0.3468631 MIMICSb   \n",
       "2 Askov 1     Fdes 0.3193748 MIMICSb   \n",
       "3 Askov 2     Fdes 0.3034246 MIMICSb   \n",
       "4 Askov 3     Fdes 0.2941484 MIMICSb   \n",
       "5 Askov 4     Fdes 0.2887217 MIMICSb   \n",
       "6 Askov 5     Fdes 0.2853509 MIMICSb   "
      ]
     },
     "metadata": {},
     "output_type": "display_data"
    }
   ],
   "source": [
    "# Get ads and desorption fluxes for MIMICS1\n",
    "pdata2 = subset(bfdata, select = c(site, years, Fdes, Fads))\n",
    "pdata2 = melt(pdata2, id = c('site', 'years'))\n",
    "colnames(pdata2) = c('site', 'years', 'Flux', 'value')\n",
    "pdata2$model_type = 'MIMICSb'\n",
    "head(pdata2)"
   ]
  },
  {
   "cell_type": "markdown",
   "metadata": {},
   "source": [
    "### MIMICSc"
   ]
  },
  {
   "cell_type": "markdown",
   "metadata": {},
   "source": [
    "In MIMICS1, Cphs is formed by direct adsorption of available carbon (F_(avl→phs)) rather than by direct adsorption of microbial residues:\n",
    "F_ads = k_ads × C_avl × (1-C_phs/Q_max )                                                                 "
   ]
  },
  {
   "cell_type": "code",
   "execution_count": 31,
   "metadata": {},
   "outputs": [],
   "source": [
    "# desorption flux function for MIMICS1\n",
    "F_des = function(t,\n",
    "                 timestep=24, #daily\n",
    "                 bulkD,\n",
    "                 CLAY,\n",
    "                 LIG  = 18.73,\n",
    "                 CN   = 74.27,\n",
    "                 Cphs\n",
    "                 )\n",
    "    { fCLAY     = CLAY/100                   # clay content, convert from clay fraction to %\n",
    "      # desorb\n",
    "      desorb    = 1.5e-5 * exp(-1.5*(fCLAY))    # hourly  #CHANGED FOR GLOBAL RUN!!!  \n",
    "      Fdes      = desorb* timestep * Cphs \n",
    "      Fdes      = Fdes/bulkD}"
   ]
  },
  {
   "cell_type": "code",
   "execution_count": 32,
   "metadata": {},
   "outputs": [],
   "source": [
    "# Adsorption flux function for MIMICS1\n",
    "F_ads = function(\n",
    "                 timestep,\n",
    "                 bulkD,\n",
    "                 CLAY,\n",
    "                 SILT,\n",
    "                 Cavl,\n",
    "                 Cphs\n",
    "                 )\n",
    "    { fCLAY     = CLAY/100                      # clay content, convert from clay fraction to %\n",
    "      desorb    = 1.5e-5 * exp(-1.5*(fCLAY))    # hourly  #CHANGED FOR GLOBAL RUN!!!  \n",
    "      kads      = 6 * desorb * timestep\n",
    "      Qmax      = bulkD * 0.86*(CLAY + SILT)    \n",
    "      Fads      = kads * Cavl * (1- Cphs/Qmax ) \n",
    "      Fads      = Fads/ bulkD \n",
    "   }  "
   ]
  },
  {
   "cell_type": "code",
   "execution_count": 33,
   "metadata": {},
   "outputs": [],
   "source": [
    "## Load data\n",
    "bfdata = bf_mimics2"
   ]
  },
  {
   "cell_type": "code",
   "execution_count": 35,
   "metadata": {},
   "outputs": [],
   "source": [
    "# load model\n",
    "model_name = 'MIMICSc'\n",
    "source(paste0('../code.proc/', model_name, '.R'))"
   ]
  },
  {
   "cell_type": "code",
   "execution_count": 36,
   "metadata": {},
   "outputs": [],
   "source": [
    "# load optimized parameters\n",
    "parm_opt = read.csv(file = paste0('../output/parameter_opt_', model_name,'.csv'))"
   ]
  },
  {
   "cell_type": "markdown",
   "metadata": {},
   "source": [
    "### Calculate Desorption fluxes"
   ]
  },
  {
   "cell_type": "code",
   "execution_count": 37,
   "metadata": {},
   "outputs": [],
   "source": [
    "bfdata$Fdes = NA\n",
    "\n",
    "for (i in unique(nsite))\n",
    "{ tmp = bfdata[bfdata$site == i, ]\n",
    "  # assign site-specific soil temperature and clay fraction \n",
    "  TSOI = siteinfo[siteinfo$site==i, 'mat']\n",
    "  CLAY = siteinfo[siteinfo$site==i, ]$CLAY   \n",
    " \n",
    "  bfdata[bfdata$site == i, 'Fdes'] = F_des(t = tmp$days,\n",
    "                 timestep=24 * 365, #yearly\n",
    "                 bulkD = bfdata[bfdata$site == i, 'bulkD'],\n",
    "                 CLAY = CLAY,\n",
    "                 \n",
    "                 LIG  = 18.73,\n",
    "                 CN   = 74.27,\n",
    "                 Cphs = bfdata[bfdata$site == i, 'SOM_1']\n",
    "                 )\n",
    " }"
   ]
  },
  {
   "cell_type": "code",
   "execution_count": 38,
   "metadata": {},
   "outputs": [
    {
     "data": {
      "text/plain": [
       "   Min. 1st Qu.  Median    Mean 3rd Qu.    Max. \n",
       " 0.2619  0.3821  0.4504  0.4518  0.5024  0.7287 "
      ]
     },
     "metadata": {},
     "output_type": "display_data"
    }
   ],
   "source": [
    "summary(bfdata$Fdes)"
   ]
  },
  {
   "cell_type": "markdown",
   "metadata": {},
   "source": [
    "### Calculate Adsorption fluxes"
   ]
  },
  {
   "cell_type": "code",
   "execution_count": 39,
   "metadata": {},
   "outputs": [],
   "source": [
    "bfdata$Fads = NA\n",
    "\n",
    "for (i in unique(nsite))\n",
    "{ tmp = bfdata[bfdata$site == i, ]\n",
    "  # assign site-specific soil temperature and clay fraction \n",
    "  CLAY = siteinfo[siteinfo$site==i, ]$CLAY     \n",
    "  SILT = siteinfo[siteinfo$site==i, ]$SILT\n",
    "  bfdata[bfdata$site == i, 'Fads'] = F_ads(\n",
    "                 timestep = 24*365,\n",
    "                 bulkD = bfdata[bfdata$site == i, 'bulkD'],\n",
    "                 CLAY = CLAY,\n",
    "                 SILT = SILT,\n",
    "                 Cavl  = bfdata[bfdata$site == i, 'SOM_3'],\n",
    "                 Cphs  = bfdata[bfdata$site == i, 'SOM_1'])\n",
    " }"
   ]
  },
  {
   "cell_type": "code",
   "execution_count": 40,
   "metadata": {},
   "outputs": [
    {
     "data": {
      "text/plain": [
       "   Min. 1st Qu.  Median    Mean 3rd Qu.    Max. \n",
       " 0.1424  0.3701  0.4360  0.4481  0.4893  1.5819 "
      ]
     },
     "metadata": {},
     "output_type": "display_data"
    }
   ],
   "source": [
    "summary(bfdata$Fads)"
   ]
  },
  {
   "cell_type": "code",
   "execution_count": 41,
   "metadata": {
    "scrolled": true
   },
   "outputs": [
    {
     "name": "stderr",
     "output_type": "stream",
     "text": [
      "Warning message in melt(pdata3, id = c(\"site\", \"years\")):\n",
      "\"The melt generic in data.table has been passed a data.frame and will attempt to redirect to the relevant reshape2 method; please note that reshape2 is deprecated, and this redirection is now deprecated as well. To continue using melt methods from reshape2 while both libraries are attached, e.g. melt.list, you can prepend the namespace like reshape2::melt(pdata3). In the next version, this warning will become an error.\"\n"
     ]
    },
    {
     "data": {
      "text/html": [
       "<table class=\"dataframe\">\n",
       "<caption>A data.frame: 6 × 5</caption>\n",
       "<thead>\n",
       "\t<tr><th></th><th scope=col>site</th><th scope=col>years</th><th scope=col>Flux</th><th scope=col>value</th><th scope=col>model_type</th></tr>\n",
       "\t<tr><th></th><th scope=col>&lt;chr&gt;</th><th scope=col>&lt;int&gt;</th><th scope=col>&lt;fct&gt;</th><th scope=col>&lt;dbl&gt;</th><th scope=col>&lt;chr&gt;</th></tr>\n",
       "</thead>\n",
       "<tbody>\n",
       "\t<tr><th scope=row>1</th><td>Askov</td><td>0</td><td>Fdes</td><td>0.4779427</td><td>MIMICSc</td></tr>\n",
       "\t<tr><th scope=row>2</th><td>Askov</td><td>1</td><td>Fdes</td><td>0.4591551</td><td>MIMICSc</td></tr>\n",
       "\t<tr><th scope=row>3</th><td>Askov</td><td>2</td><td>Fdes</td><td>0.4535746</td><td>MIMICSc</td></tr>\n",
       "\t<tr><th scope=row>4</th><td>Askov</td><td>3</td><td>Fdes</td><td>0.4520820</td><td>MIMICSc</td></tr>\n",
       "\t<tr><th scope=row>5</th><td>Askov</td><td>4</td><td>Fdes</td><td>0.4524321</td><td>MIMICSc</td></tr>\n",
       "\t<tr><th scope=row>6</th><td>Askov</td><td>5</td><td>Fdes</td><td>0.4537508</td><td>MIMICSc</td></tr>\n",
       "</tbody>\n",
       "</table>\n"
      ],
      "text/latex": [
       "A data.frame: 6 × 5\n",
       "\\begin{tabular}{r|lllll}\n",
       "  & site & years & Flux & value & model\\_type\\\\\n",
       "  & <chr> & <int> & <fct> & <dbl> & <chr>\\\\\n",
       "\\hline\n",
       "\t1 & Askov & 0 & Fdes & 0.4779427 & MIMICSc\\\\\n",
       "\t2 & Askov & 1 & Fdes & 0.4591551 & MIMICSc\\\\\n",
       "\t3 & Askov & 2 & Fdes & 0.4535746 & MIMICSc\\\\\n",
       "\t4 & Askov & 3 & Fdes & 0.4520820 & MIMICSc\\\\\n",
       "\t5 & Askov & 4 & Fdes & 0.4524321 & MIMICSc\\\\\n",
       "\t6 & Askov & 5 & Fdes & 0.4537508 & MIMICSc\\\\\n",
       "\\end{tabular}\n"
      ],
      "text/markdown": [
       "\n",
       "A data.frame: 6 × 5\n",
       "\n",
       "| <!--/--> | site &lt;chr&gt; | years &lt;int&gt; | Flux &lt;fct&gt; | value &lt;dbl&gt; | model_type &lt;chr&gt; |\n",
       "|---|---|---|---|---|---|\n",
       "| 1 | Askov | 0 | Fdes | 0.4779427 | MIMICSc |\n",
       "| 2 | Askov | 1 | Fdes | 0.4591551 | MIMICSc |\n",
       "| 3 | Askov | 2 | Fdes | 0.4535746 | MIMICSc |\n",
       "| 4 | Askov | 3 | Fdes | 0.4520820 | MIMICSc |\n",
       "| 5 | Askov | 4 | Fdes | 0.4524321 | MIMICSc |\n",
       "| 6 | Askov | 5 | Fdes | 0.4537508 | MIMICSc |\n",
       "\n"
      ],
      "text/plain": [
       "  site  years Flux value     model_type\n",
       "1 Askov 0     Fdes 0.4779427 MIMICSc   \n",
       "2 Askov 1     Fdes 0.4591551 MIMICSc   \n",
       "3 Askov 2     Fdes 0.4535746 MIMICSc   \n",
       "4 Askov 3     Fdes 0.4520820 MIMICSc   \n",
       "5 Askov 4     Fdes 0.4524321 MIMICSc   \n",
       "6 Askov 5     Fdes 0.4537508 MIMICSc   "
      ]
     },
     "metadata": {},
     "output_type": "display_data"
    }
   ],
   "source": [
    "# Get ads and desorption fluxes for MIMICS1\n",
    "pdata3 = subset(bfdata, select = c(site, years, Fdes, Fads))\n",
    "pdata3 = melt(pdata3, id = c('site', 'years'))\n",
    "colnames(pdata3) = c('site', 'years', 'Flux', 'value')\n",
    "pdata3$model_type = 'MIMICSc'\n",
    "head(pdata3)"
   ]
  },
  {
   "cell_type": "code",
   "execution_count": 42,
   "metadata": {},
   "outputs": [],
   "source": [
    "# combine the three models\n",
    "pdata = rbind(pdata1, pdata2, pdata3)\n",
    "# pdata = pdata[pdata$years <= 100, ]"
   ]
  },
  {
   "cell_type": "code",
   "execution_count": 43,
   "metadata": {},
   "outputs": [],
   "source": [
    "theme_set(\n",
    "  theme_bw() +\n",
    "  theme(#panel.grid.major = element_blank(),\n",
    "        panel.grid.minor = element_blank(),\n",
    "        legend.position = \"bottom\",\n",
    "        legend.text = element_text(size = 13), \n",
    "        legend.title = element_blank(),\n",
    "        strip.text = element_text(size = 13, face = \"bold\"), \n",
    "        axis.text.x = element_text(size = 13, angle = 45, hjust=1),\n",
    "        axis.text.y = element_text(size = 13),\n",
    "        axis.title=element_text(size=13))\n",
    "       )         "
   ]
  },
  {
   "cell_type": "code",
   "execution_count": 44,
   "metadata": {},
   "outputs": [],
   "source": [
    "# predicted vs observed time-series plot\n",
    "desp_adsp_curve <- ggplot(aes(x =years , y = value, color=Flux), data = pdata)+ \n",
    "  facet_grid(site ~ model_type) +\n",
    "  geom_line() +\n",
    "  scale_color_manual(values = c('red', 'blue'),\n",
    "                    labels  = c('Desorption Flux', 'Adsorption Flux')) +\n",
    "  # theme(legend.direction = \"vertical\") +\n",
    "  xlab('Time under bare fallow (years)') +\n",
    "  ylab(expression(paste('Adsorption or Desorption Flux (gC kg'^'-1',' soil year'^'-1',')')))"
   ]
  },
  {
   "cell_type": "code",
   "execution_count": 45,
   "metadata": {
    "scrolled": true
   },
   "outputs": [
    {
     "data": {
      "image/png": "[encoded data removed]",
      "text/plain": [
       "plot without title"
      ]
     },
     "metadata": {
      "image/png": {
       "height": 600,
       "width": 360
      }
     },
     "output_type": "display_data"
    }
   ],
   "source": [
    "options(repr.plot.width = 6, repr.plot.height = 10)\n",
    "desp_adsp_curve"
   ]
  },
  {
   "cell_type": "code",
   "execution_count": 46,
   "metadata": {},
   "outputs": [],
   "source": [
    "ggsave(\"Fig.4-a.eps\", width = 6, height = 8,  dpi=600)"
   ]
  },
  {
   "cell_type": "code",
   "execution_count": 47,
   "metadata": {},
   "outputs": [
    {
     "name": "stderr",
     "output_type": "stream",
     "text": [
      "Warning message:\n",
      "\"package 'ggpubr' was built under R version 4.0.5\"\n"
     ]
    }
   ],
   "source": [
    "library(ggpubr)\n",
    "p_desp_mic = ggarrange(desp_adsp_curve, p_MicBiom,\n",
    "                    labels = c(\"(a)\", \"(b)\"),\n",
    "                    #common.legend = TRUE,\n",
    "                    ncol = 2, nrow = 1,\n",
    "                    widths = c(1, 1))"
   ]
  },
  {
   "cell_type": "code",
   "execution_count": 48,
   "metadata": {},
   "outputs": [],
   "source": [
    "ggsave(\"Fig.4.eps\", width = 12, height = 8,  dpi=600)"
   ]
  },
  {
   "cell_type": "markdown",
   "metadata": {},
   "source": [
    "Depending on the site, the net of both fluxes approaches zero after X-Y years for MIMICSa and X-Y years MIMICSb. "
   ]
  },
  {
   "cell_type": "code",
   "execution_count": 38,
   "metadata": {},
   "outputs": [],
   "source": [
    "eqdata = cbind(pdata[pdata$Flux == 'Fads',  c('site', 'model_type', 'years',  'value')], pdata[pdata$Flux == 'Fdes',   'value'])\n",
    "colnames(eqdata) = c('site', 'model', 'years','Fads', 'Fdes')   \n",
    "eqdata$dif = eqdata$Fdes - eqdata$Fads "
   ]
  },
  {
   "cell_type": "code",
   "execution_count": 39,
   "metadata": {},
   "outputs": [
    {
     "data": {
      "text/html": [
       "<table class=\"dataframe\">\n",
       "<caption>A data.frame: 6 × 6</caption>\n",
       "<thead>\n",
       "\t<tr><th></th><th scope=col>site</th><th scope=col>model</th><th scope=col>years</th><th scope=col>Fads</th><th scope=col>Fdes</th><th scope=col>dif</th></tr>\n",
       "\t<tr><th></th><th scope=col>&lt;chr&gt;</th><th scope=col>&lt;chr&gt;</th><th scope=col>&lt;int&gt;</th><th scope=col>&lt;dbl&gt;</th><th scope=col>&lt;dbl&gt;</th><th scope=col>&lt;dbl&gt;</th></tr>\n",
       "</thead>\n",
       "<tbody>\n",
       "\t<tr><th scope=row>756</th><td>Askov</td><td>MIMICSa</td><td>0</td><td>0.59450374</td><td>0.2052556</td><td>-0.38924814</td></tr>\n",
       "\t<tr><th scope=row>757</th><td>Askov</td><td>MIMICSa</td><td>1</td><td>0.04878521</td><td>0.2018492</td><td> 0.15306401</td></tr>\n",
       "\t<tr><th scope=row>758</th><td>Askov</td><td>MIMICSa</td><td>2</td><td>0.02160000</td><td>0.1828185</td><td> 0.16121848</td></tr>\n",
       "\t<tr><th scope=row>759</th><td>Askov</td><td>MIMICSa</td><td>3</td><td>0.02197303</td><td>0.1648173</td><td> 0.14284427</td></tr>\n",
       "\t<tr><th scope=row>760</th><td>Askov</td><td>MIMICSa</td><td>4</td><td>0.03527569</td><td>0.1496081</td><td> 0.11433243</td></tr>\n",
       "\t<tr><th scope=row>761</th><td>Askov</td><td>MIMICSa</td><td>5</td><td>0.06517803</td><td>0.1385541</td><td> 0.07337604</td></tr>\n",
       "</tbody>\n",
       "</table>\n"
      ],
      "text/latex": [
       "A data.frame: 6 × 6\n",
       "\\begin{tabular}{r|llllll}\n",
       "  & site & model & years & Fads & Fdes & dif\\\\\n",
       "  & <chr> & <chr> & <int> & <dbl> & <dbl> & <dbl>\\\\\n",
       "\\hline\n",
       "\t756 & Askov & MIMICSa & 0 & 0.59450374 & 0.2052556 & -0.38924814\\\\\n",
       "\t757 & Askov & MIMICSa & 1 & 0.04878521 & 0.2018492 &  0.15306401\\\\\n",
       "\t758 & Askov & MIMICSa & 2 & 0.02160000 & 0.1828185 &  0.16121848\\\\\n",
       "\t759 & Askov & MIMICSa & 3 & 0.02197303 & 0.1648173 &  0.14284427\\\\\n",
       "\t760 & Askov & MIMICSa & 4 & 0.03527569 & 0.1496081 &  0.11433243\\\\\n",
       "\t761 & Askov & MIMICSa & 5 & 0.06517803 & 0.1385541 &  0.07337604\\\\\n",
       "\\end{tabular}\n"
      ],
      "text/markdown": [
       "\n",
       "A data.frame: 6 × 6\n",
       "\n",
       "| <!--/--> | site &lt;chr&gt; | model &lt;chr&gt; | years &lt;int&gt; | Fads &lt;dbl&gt; | Fdes &lt;dbl&gt; | dif &lt;dbl&gt; |\n",
       "|---|---|---|---|---|---|---|\n",
       "| 756 | Askov | MIMICSa | 0 | 0.59450374 | 0.2052556 | -0.38924814 |\n",
       "| 757 | Askov | MIMICSa | 1 | 0.04878521 | 0.2018492 |  0.15306401 |\n",
       "| 758 | Askov | MIMICSa | 2 | 0.02160000 | 0.1828185 |  0.16121848 |\n",
       "| 759 | Askov | MIMICSa | 3 | 0.02197303 | 0.1648173 |  0.14284427 |\n",
       "| 760 | Askov | MIMICSa | 4 | 0.03527569 | 0.1496081 |  0.11433243 |\n",
       "| 761 | Askov | MIMICSa | 5 | 0.06517803 | 0.1385541 |  0.07337604 |\n",
       "\n"
      ],
      "text/plain": [
       "    site  model   years Fads       Fdes      dif        \n",
       "756 Askov MIMICSa 0     0.59450374 0.2052556 -0.38924814\n",
       "757 Askov MIMICSa 1     0.04878521 0.2018492  0.15306401\n",
       "758 Askov MIMICSa 2     0.02160000 0.1828185  0.16121848\n",
       "759 Askov MIMICSa 3     0.02197303 0.1648173  0.14284427\n",
       "760 Askov MIMICSa 4     0.03527569 0.1496081  0.11433243\n",
       "761 Askov MIMICSa 5     0.06517803 0.1385541  0.07337604"
      ]
     },
     "metadata": {},
     "output_type": "display_data"
    }
   ],
   "source": [
    "head(eqdata)"
   ]
  },
  {
   "cell_type": "code",
   "execution_count": 40,
   "metadata": {},
   "outputs": [
    {
     "data": {
      "text/plain": [
       "     site              model               years          Fads          \n",
       " Length:1510        Length:1510        Min.   :  0   Min.   :0.0000173  \n",
       " Class :character   Class :character   1st Qu.: 37   1st Qu.:0.0067579  \n",
       " Mode  :character   Mode  :character   Median : 75   Median :0.1694601  \n",
       "                                       Mean   : 75   Mean   :0.1450087  \n",
       "                                       3rd Qu.:113   3rd Qu.:0.2616135  \n",
       "                                       Max.   :150   Max.   :1.0496808  \n",
       "      Fdes                dif           \n",
       " Min.   :0.0001223   Min.   :-0.877523  \n",
       " 1st Qu.:0.0152884   1st Qu.: 0.002030  \n",
       " Median :0.2346311   Median : 0.006165  \n",
       " Mean   :0.1685001   Mean   : 0.023491  \n",
       " 3rd Qu.:0.2887208   3rd Qu.: 0.034195  \n",
       " Max.   :0.4429054   Max.   : 0.366862  "
      ]
     },
     "metadata": {},
     "output_type": "display_data"
    }
   ],
   "source": [
    "summary(eqdata)"
   ]
  },
  {
   "cell_type": "code",
   "execution_count": 41,
   "metadata": {},
   "outputs": [
    {
     "data": {
      "text/plain": [
       "     site              model               years             Fads          \n",
       " Length:1353        Length:1353        Min.   :  0.00   Min.   :0.0000173  \n",
       " Class :character   Class :character   1st Qu.: 38.00   1st Qu.:0.0054884  \n",
       " Mode  :character   Mode  :character   Median : 75.00   Median :0.0756208  \n",
       "                                       Mean   : 75.32   Mean   :0.1289568  \n",
       "                                       3rd Qu.:113.00   3rd Qu.:0.2509983  \n",
       "                                       Max.   :150.00   Max.   :0.3547450  \n",
       "      Fdes                dif          \n",
       " Min.   :0.0001223   Min.   :0.000105  \n",
       " 1st Qu.:0.0114079   1st Qu.:0.003401  \n",
       " Median :0.1327647   Median :0.008339  \n",
       " Mean   :0.1589114   Mean   :0.029954  \n",
       " 3rd Qu.:0.2933992   3rd Qu.:0.041001  \n",
       " Max.   :0.4429054   Max.   :0.366862  "
      ]
     },
     "metadata": {},
     "output_type": "display_data"
    }
   ],
   "source": [
    "summary(eqdata[eqdata$dif > 0,])"
   ]
  },
  {
   "cell_type": "markdown",
   "metadata": {},
   "source": [
    "If NET Flux of Fads and Fdes (dif) is below 0.015 gC per kg Soil per year, we say it approaches zero."
   ]
  },
  {
   "cell_type": "code",
   "execution_count": 42,
   "metadata": {
    "scrolled": true
   },
   "outputs": [
    {
     "name": "stdout",
     "output_type": "stream",
     "text": [
      "[1] \"MIMICSa\"\n",
      "[1] \"Askov\"\n",
      "[1] 21\n",
      "[1] \"Grignon\"\n",
      "[1] 52\n",
      "[1] \"Rothamsted\"\n",
      "[1] 58\n",
      "[1] \"Ultuna\"\n",
      "[1] 63\n",
      "[1] \"Versailles\"\n",
      "[1] 60\n",
      "[1] \"MIMICSb\"\n",
      "[1] \"Askov\"\n",
      "[1] 22\n",
      "[1] \"Grignon\"\n"
     ]
    },
    {
     "name": "stderr",
     "output_type": "stream",
     "text": [
      "Warning message in min(eq_years):\n",
      "\"min里所有的参数都不存在; 回覆Inf\"\n"
     ]
    },
    {
     "name": "stdout",
     "output_type": "stream",
     "text": [
      "[1] Inf\n",
      "[1] \"Rothamsted\"\n",
      "[1] 47\n",
      "[1] \"Ultuna\"\n",
      "[1] 21\n",
      "[1] \"Versailles\"\n",
      "[1] 56\n"
     ]
    }
   ],
   "source": [
    "for (m in unique(eqdata$model))\n",
    "    {print(m)\n",
    "     for (i in unique(eqdata$site))\n",
    "        { print(i)\n",
    "         eq_years = eqdata[eqdata$model == m & eqdata$site == i & eqdata$years > 20 & eqdata$dif < 0.015 & eqdata$dif > - 0.015 ,'years']\n",
    "         print(min(eq_years))}\n",
    "     }\n"
   ]
  },
  {
   "cell_type": "markdown",
   "metadata": {},
   "source": [
    " Depending on the site, the net of both fluxes approaches zero (less than 0.015 gC kg-1 Soil year-1) after 21-63 years for MIMICSa and 42-90 years MIMICSb. "
   ]
  },
  {
   "cell_type": "markdown",
   "metadata": {},
   "source": [
    "The desorption and adsorption fluxes simulated by MIMICSb (0.23–0.33 g C kg-1 soil year-1) were substantially greater than those simulated by MIMICSa (1.65×10-5–0.048 g C kg-1 soil year-1) after 50–150 years of bare fallow (Fig. 7)."
   ]
  },
  {
   "cell_type": "code",
   "execution_count": 33,
   "metadata": {},
   "outputs": [
    {
     "name": "stdout",
     "output_type": "stream",
     "text": [
      "[1] \"MIMICSa\"\n",
      "[1] 1.654011e-05\n",
      "[1] 0.04758385\n",
      "[1] \"MIMICSb\"\n",
      "[1] 0.2269673\n",
      "[1] 0.3301739\n"
     ]
    }
   ],
   "source": [
    "for (m in unique(pdata$model_type))\n",
    "    {print(m)\n",
    "         Flux50 = pdata[pdata$model_type == m  & pdata$years > 50 ,'value']\n",
    "         print(min(Flux50))\n",
    "         print(max(Flux50))\n",
    "     }"
   ]
  },
  {
   "cell_type": "code",
   "execution_count": 66,
   "metadata": {},
   "outputs": [],
   "source": [
    "# combine MIMICS0 and MIMICS1\n",
    "pdata.h = pdata\n",
    "# unit from gC kg'^'-1',' Soil year'^'-1'\n",
    "#      to   gC kg'^'-1',' Soil hour'^'-1'\n",
    "pdata.h$value = pdata.h$value/24/365 "
   ]
  },
  {
   "cell_type": "code",
   "execution_count": 67,
   "metadata": {},
   "outputs": [],
   "source": [
    "# predicted vs observed time-series plot\n",
    "bf_scatter.h <- ggplot(aes(x =years , y = value, color=Flux), data = pdata.h)+ \n",
    "  facet_grid( model_type ~ site) +\n",
    "  geom_line() +\n",
    "  scale_color_manual(values = c('red', 'blue'),\n",
    "                    labels  = c('Desorption Flux', 'Adsorption Flux')) +\n",
    "  xlab('Time under bare fallow (years)') +\n",
    "  ylab(expression(paste('Adsorption or Desorption Flux (gC kg'^'-1',' Soil hour'^'-1',')')))"
   ]
  },
  {
   "cell_type": "code",
   "execution_count": 68,
   "metadata": {
    "scrolled": true
   },
   "outputs": [
    {
     "data": {
      "image/png": "[encoded data removed]",
      "text/plain": [
       "plot without title"
      ]
     },
     "metadata": {
      "image/png": {
       "height": 360,
       "width": 600
      }
     },
     "output_type": "display_data"
    }
   ],
   "source": [
    "options(repr.plot.width = 10, repr.plot.height = 6)\n",
    "bf_scatter.h"
   ]
  },
  {
   "cell_type": "code",
   "execution_count": 69,
   "metadata": {},
   "outputs": [],
   "source": [
    "ggsave(\"Fig_Fads_Fdes_MIMICS0_MIMICS1.hourly.jpg\", width = 8, height = 5,  dpi=600)"
   ]
  },
  {
   "cell_type": "code",
   "execution_count": null,
   "metadata": {},
   "outputs": [],
   "source": []
  },
  {
   "cell_type": "code",
   "execution_count": null,
   "metadata": {},
   "outputs": [],
   "source": []
  }
 ],
 "metadata": {
  "kernelspec": {
   "display_name": "R",
   "language": "R",
   "name": "ir"
  },
  "language_info": {
   "codemirror_mode": "r",
   "file_extension": ".r",
   "mimetype": "text/x-r-source",
   "name": "R",
   "pygments_lexer": "r",
   "version": "4.0.3"
  }
 },
 "nbformat": 4,
 "nbformat_minor": 4
}
